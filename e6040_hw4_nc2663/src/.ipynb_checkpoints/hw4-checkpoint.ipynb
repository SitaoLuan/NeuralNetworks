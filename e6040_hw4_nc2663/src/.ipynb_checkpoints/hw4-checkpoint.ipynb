{
 "cells": [
  {
   "cell_type": "markdown",
   "metadata": {},
   "source": [
    "## ECBM E6040 Homework 4 - Programming Problem"
   ]
  },
  {
   "cell_type": "code",
   "execution_count": null,
   "metadata": {
    "collapsed": false,
    "scrolled": true
   },
   "outputs": [],
   "source": [
    "import matplotlib\n",
    "import pylab\n",
    "%matplotlib inline"
   ]
  },
  {
   "cell_type": "markdown",
   "metadata": {},
   "source": [
    "### Problem a: Recurrent Neural Network\n",
    "#### Bullet 1: Experiment with RNNSLU"
   ]
  },
  {
   "cell_type": "code",
   "execution_count": null,
   "metadata": {
    "collapsed": false,
    "scrolled": true
   },
   "outputs": [
    {
     "name": "stdout",
     "output_type": "stream",
     "text": [
      "Number of hidden units: 100, Context window size: 7, Word embedding size: 50\n",
      "verbose: True\n",
      "normal: True\n",
      "win: 7\n",
      "savemodel: False\n",
      "fold: 3\n",
      "seed: 345\n",
      "emb_dimension: 50\n",
      "nepochs: 60\n",
      "nhidden: 100\n",
      "decay: True\n",
      "lr: 0.0970806646813\n",
      "folder: ../result\n",
      "... loading the dataset\n",
      "... building the model"
     ]
    },
    {
     "name": "stderr",
     "output_type": "stream",
     "text": [
      "Using gpu device 0: GRID K520\n",
      "WARNING (theano.gof.compilelock): Overriding existing lock by dead process '4517' (I am process '5896')\n",
      "WARNING:theano.gof.compilelock:Overriding existing lock by dead process '4517' (I am process '5896')\n"
     ]
    },
    {
     "name": "stdout",
     "output_type": "stream",
     "text": [
      "\n",
      "... training\n",
      "NEW BEST: epoch 0 valid F1 63.39 best test F1 60.51\n",
      "NEW BEST: epoch 1 valid F1 75.46 best test F1 72.37\n",
      "NEW BEST: epoch 2 valid F1 80.34 best test F1 77.06\n",
      "NEW BEST: epoch 3 valid F1 83.89 best test F1 80.94\n",
      "NEW BEST: epoch 4 valid F1 85.89 best test F1 82.83\n",
      "NEW BEST: epoch 5 valid F1 88.02 best test F1 84.35\n",
      "NEW BEST: epoch 6 valid F1 89.36 best test F1 85.14\n",
      "NEW BEST: epoch 7 valid F1 90.96 best test F1 87.83\n",
      "NEW BEST: epoch 8 valid F1 91.66 best test F1 88.68\n",
      "NEW BEST: epoch 9 valid F1 93.03 best test F1 89.86\n",
      "NEW BEST: epoch 10 valid F1 93.53 best test F1 90.73\n",
      "NEW BEST: epoch 11 valid F1 94.0 best test F1 91.15\n",
      "NEW BEST: epoch 12 valid F1 94.31 best test F1 91.34\n",
      "NEW BEST: epoch 13 valid F1 94.62 best test F1 92.11\n",
      "NEW BEST: epoch 14 valid F1 94.74 best test F1 91.72\n",
      "NEW BEST: epoch 15 valid F1 95.54 best test F1 92.5\n",
      "NEW BEST: epoch 16 valid F1 95.61 best test F1 92.79\n",
      "\n",
      "NEW BEST: epoch 18 valid F1 95.93 best test F1 93.05\n",
      "NEW BEST: epoch 19 valid F1 96.07 best test F1 93.14\n",
      "\n",
      "NEW BEST: epoch 21 valid F1 96.28 best test F1 93.67\n",
      "NEW BEST: epoch 22 valid F1 96.68 best test F1 93.65\n",
      "\n",
      "\n",
      "\n",
      "\n",
      "NEW BEST: epoch 27 valid F1 96.72 best test F1 93.64\n",
      "\n",
      "\n",
      "\n",
      "\n",
      "\n",
      "\n",
      "NEW BEST: epoch 34 valid F1 96.99 best test F1 93.48\n",
      "\n",
      "\n",
      "NEW BEST: epoch 37 valid F1 97.01 best test F1 93.99\n",
      "\n",
      "NEW BEST: epoch 39 valid F1 97.13 best test F1 93.7\n",
      "\n",
      "NEW BEST: epoch 41 valid F1 97.2 best test F1 93.79\n",
      "\n",
      "\n",
      "\n",
      "\n",
      "\n",
      "\n",
      "\n",
      "\n",
      "\n",
      "\n",
      "\n",
      "NEW BEST: epoch 53 valid F1 97.22 best test F1 93.97\n",
      "\n",
      "\n",
      "\n",
      "\n",
      "\n",
      "NEW BEST: epoch 59 valid F1 97.25 best test F1 93.89\n",
      "BEST RESULT: epoch 59 valid F1 97.25 best test F1 93.89 with the model ../result\n",
      "Number of hidden units: 100, Context window size: 7, Word embedding size: 60\n",
      "verbose: True\n",
      "normal: True\n",
      "win: 7\n",
      "savemodel: False\n",
      "fold: 3\n",
      "seed: 345\n",
      "emb_dimension: 60\n",
      "nepochs: 60\n",
      "nhidden: 100\n",
      "decay: True\n",
      "lr: 0.0970806646813\n",
      "folder: ../result\n",
      "... loading the dataset\n",
      "... building the model\n",
      "... training\n",
      "NEW BEST: epoch 0 valid F1 65.15 best test F1 61.77\n",
      "NEW BEST: epoch 1 valid F1 76.67 best test F1 72.02\n",
      "NEW BEST: epoch 2 valid F1 82.45 best test F1 77.86\n",
      "NEW BEST: epoch 3 valid F1 85.27 best test F1 81.8\n",
      "NEW BEST: epoch 4 valid F1 87.37 best test F1 83.83\n",
      "NEW BEST: epoch 5 valid F1 89.15 best test F1 85.0\n",
      "NEW BEST: epoch 6 valid F1 89.8 best test F1 86.86\n",
      "NEW BEST: epoch 7 valid F1 91.12 best test F1 88.51\n",
      "NEW BEST: epoch 8 valid F1 92.0 best test F1 89.31\n",
      "NEW BEST: epoch 9 valid F1 93.2 best test F1 90.75\n",
      "NEW BEST: epoch 10 valid F1 93.65 best test F1 90.77\n",
      "\n",
      "NEW BEST: epoch 12 valid F1 94.47 best test F1 92.38\n",
      "\n",
      "NEW BEST: epoch 14 valid F1 95.02 best test F1 92.41\n",
      "\n",
      "NEW BEST: epoch 16 valid F1 95.25 best test F1 93.2\n",
      "NEW BEST: epoch 17 valid F1 95.6 best test F1 93.22\n",
      "NEW BEST: epoch 18 valid F1 96.01 best test F1 93.01\n",
      "\n",
      "\n",
      "NEW BEST: epoch 21 valid F1 96.17 best test F1 93.46\n",
      "NEW BEST: epoch 22 valid F1 96.23 best test F1 93.08\n",
      "NEW BEST: epoch 23 valid F1 96.37 best test F1 93.06\n",
      "\n",
      "\n",
      "\n",
      "\n",
      "NEW BEST: epoch 28 valid F1 96.56 best test F1 93.18\n",
      "\n",
      "\n",
      "NEW BEST: epoch 31 valid F1 96.71 best test F1 93.46\n",
      "\n",
      "\n",
      "\n",
      "\n",
      "\n",
      "NEW BEST: epoch 37 valid F1 96.9 best test F1 93.61\n",
      "\n",
      "\n",
      "\n",
      "\n",
      "\n",
      "\n",
      "\n",
      "\n",
      "\n",
      "\n",
      "\n",
      "\n",
      "\n",
      "\n",
      "\n",
      "\n",
      "\n",
      "\n",
      "\n",
      "\n",
      "\n",
      "\n",
      "BEST RESULT: epoch 37 valid F1 96.9 best test F1 93.61 with the model ../result\n",
      "Number of hidden units: 100, Context window size: 15, Word embedding size: 50\n",
      "verbose: True\n",
      "normal: True\n",
      "win: 15\n",
      "savemodel: False\n",
      "fold: 3\n",
      "seed: 345\n",
      "emb_dimension: 50\n",
      "nepochs: 60\n",
      "nhidden: 100\n",
      "decay: True\n",
      "lr: 0.0970806646813\n",
      "folder: ../result\n",
      "... loading the dataset\n",
      "... building the model\n",
      "... training\n",
      "NEW BEST: epoch 0 valid F1 62.91 best test F1 59.42\n",
      "NEW BEST: epoch 1 valid F1 73.76 best test F1 71.44\n",
      "NEW BEST: epoch 2 valid F1 81.27 best test F1 77.79\n",
      "NEW BEST: epoch 3 valid F1 85.01 best test F1 81.46\n",
      "NEW BEST: epoch 4 valid F1 87.59 best test F1 83.63\n",
      "NEW BEST: epoch 5 valid F1 89.12 best test F1 84.67\n",
      "NEW BEST: epoch 6 valid F1 89.63 best test F1 85.27\n",
      "NEW BEST: epoch 7 valid F1 91.3 best test F1 87.73\n",
      "NEW BEST: epoch 8 valid F1 92.3 best test F1 88.67\n",
      "NEW BEST: epoch 9 valid F1 93.18 best test F1 90.05\n",
      "NEW BEST: epoch 10 valid F1 93.97 best test F1 90.54\n",
      "NEW BEST: epoch 11 valid F1 94.22 best test F1 91.57\n",
      "NEW BEST: epoch 12 valid F1 94.57 best test F1 91.24\n",
      "NEW BEST: epoch 13 valid F1 94.63 best test F1 91.41\n",
      "\n",
      "NEW BEST: epoch 15 valid F1 96.0 best test F1 92.65\n",
      "\n",
      "\n",
      "\n",
      "\n",
      "\n",
      "\n",
      "NEW BEST: epoch 22 valid F1 96.31 best test F1 93.08\n",
      "NEW BEST: epoch 23 valid F1 96.35 best test F1 93.34\n",
      "NEW BEST: epoch 24 valid F1 96.39 best test F1 93.29\n",
      "NEW BEST: epoch 25 valid F1 96.48 best test F1 93.21\n",
      "\n",
      "NEW BEST: epoch 27 valid F1 96.5 best test F1 93.23\n",
      "NEW BEST: epoch 28 valid F1 96.62 best test F1 93.52\n",
      "\n",
      "\n",
      "\n",
      "\n",
      "\n",
      "NEW BEST: epoch 34 valid F1 96.8 best test F1 93.64\n",
      "\n",
      "\n",
      "NEW BEST: epoch 37 valid F1 96.83 best test F1 93.49\n",
      "NEW BEST: epoch 38 valid F1 96.9 best test F1 93.63\n",
      "\n",
      "\n",
      "\n",
      "\n",
      "\n",
      "\n",
      "\n",
      "\n",
      "NEW BEST: epoch 47 valid F1 96.92 best test F1 93.35\n",
      "\n",
      "\n",
      "\n",
      "\n",
      "NEW BEST: epoch 52 valid F1 96.95 best test F1 93.65\n",
      "\n",
      "NEW BEST: epoch 54 valid F1 97.0 best test F1 93.64\n",
      "\n",
      "\n",
      "\n",
      "\n",
      "\n",
      "BEST RESULT: epoch 54 valid F1 97.0 best test F1 93.64 with the model ../result\n",
      "Number of hidden units: 100, Context window size: 15, Word embedding size: 60\n",
      "verbose: True\n",
      "normal: True\n",
      "win: 15\n",
      "savemodel: False\n",
      "fold: 3\n",
      "seed: 345\n",
      "emb_dimension: 60\n",
      "nepochs: 60\n",
      "nhidden: 100\n",
      "decay: True\n",
      "lr: 0.0970806646813\n",
      "folder: ../result\n",
      "... loading the dataset\n",
      "... building the model\n",
      "... training\n",
      "NEW BEST: epoch 0 valid F1 62.93 best test F1 60.38\n",
      "NEW BEST: epoch 1 valid F1 75.22 best test F1 71.48\n",
      "NEW BEST: epoch 2 valid F1 81.32 best test F1 77.78\n",
      "NEW BEST: epoch 3 valid F1 83.55 best test F1 79.77\n",
      "NEW BEST: epoch 4 valid F1 86.51 best test F1 83.17\n",
      "NEW BEST: epoch 5 valid F1 88.25 best test F1 85.15\n",
      "NEW BEST: epoch 6 valid F1 89.34 best test F1 85.35\n",
      "NEW BEST: epoch 7 valid F1 91.42 best test F1 88.39\n",
      "NEW BEST: epoch 8 valid F1 92.46 best test F1 89.18\n",
      "NEW BEST: epoch 9 valid F1 92.49 best test F1 89.75\n",
      "NEW BEST: epoch 10 valid F1 93.2 best test F1 89.67\n",
      "NEW BEST: epoch 11 valid F1 93.9 best test F1 91.36\n",
      "NEW BEST: epoch 12 valid F1 94.71 best test F1 91.87\n",
      "\n",
      "NEW BEST: epoch 14 valid F1 94.73 best test F1 92.21\n",
      "NEW BEST: epoch 15 valid F1 95.5 best test F1 92.65\n",
      "\n",
      "NEW BEST: epoch 17 valid F1 95.53 best test F1 92.96\n",
      "NEW BEST: epoch 18 valid F1 95.75 best test F1 93.08\n",
      "NEW BEST: epoch 19 valid F1 95.95 best test F1 93.3\n",
      "NEW BEST: epoch 20 valid F1 95.97 best test F1 92.75\n",
      "NEW BEST: epoch 21 valid F1 96.16 best test F1 93.19\n",
      "\n",
      "NEW BEST: epoch 23 valid F1 96.24 best test F1 93.45\n",
      "NEW BEST: epoch 24 valid F1 96.47 best test F1 93.43\n",
      "\n",
      "\n",
      "NEW BEST: epoch 27 valid F1 96.57 best test F1 93.84\n",
      "\n",
      "\n",
      "\n",
      "\n",
      "\n",
      "\n",
      "\n",
      "\n",
      "\n",
      "NEW BEST: epoch 37 valid F1 96.62 best test F1 93.99\n",
      "\n",
      "\n",
      "\n",
      "NEW BEST: epoch 41 valid F1 96.68 best test F1 93.82\n",
      "\n",
      "\n",
      "\n",
      "\n",
      "\n",
      "\n",
      "\n",
      "NEW BEST: epoch 49 valid F1 96.72 best test F1 93.89\n",
      "\n",
      "\n",
      "\n",
      "\n",
      "\n",
      "\n",
      "NEW BEST: epoch 56 valid F1 96.8 best test F1 93.92\n",
      "\n",
      "\n",
      "\n",
      "BEST RESULT: epoch 56 valid F1 96.8 best test F1 93.92 with the model ../result\n",
      "Number of hidden units: 200, Context window size: 7, Word embedding size: 50\n",
      "verbose: True\n",
      "normal: True\n",
      "win: 7\n",
      "savemodel: False\n",
      "fold: 3\n",
      "seed: 345\n",
      "emb_dimension: 50\n",
      "nepochs: 60\n",
      "nhidden: 200\n",
      "decay: True\n",
      "lr: 0.0970806646813\n",
      "folder: ../result\n",
      "... loading the dataset\n",
      "... building the model\n",
      "... training\n",
      "NEW BEST: epoch 0 valid F1 68.59 best test F1 66.65\n",
      "NEW BEST: epoch 1 valid F1 80.45 best test F1 77.65\n",
      "NEW BEST: epoch 2 valid F1 83.67 best test F1 80.35\n",
      "NEW BEST: epoch 3 valid F1 88.05 best test F1 84.08\n",
      "NEW BEST: epoch 4 valid F1 89.42 best test F1 86.0\n",
      "NEW BEST: epoch 5 valid F1 91.12 best test F1 86.69\n",
      "NEW BEST: epoch 6 valid F1 91.55 best test F1 88.62\n",
      "NEW BEST: epoch 7 valid F1 91.79 best test F1 89.73\n",
      "NEW BEST: epoch 8 valid F1 93.63 best test F1 90.55\n",
      "NEW BEST: epoch 9 valid F1 94.17 best test F1 91.56\n",
      "NEW BEST: epoch 10 valid F1 94.45 best test F1 91.52\n",
      "NEW BEST: epoch 11 valid F1 94.72 best test F1 92.45\n",
      "NEW BEST: epoch 12 valid F1 95.31 best test F1 92.76\n",
      "NEW BEST: epoch 13 valid F1 95.36 best test F1 92.87\n",
      "\n",
      "NEW BEST: epoch 15 valid F1 95.64 best test F1 92.99\n",
      "NEW BEST: epoch 16 valid F1 95.71 best test F1 93.39\n",
      "NEW BEST: epoch 17 valid F1 95.97 best test F1 93.02\n",
      "NEW BEST: epoch 18 valid F1 96.5 best test F1 93.52\n",
      "\n",
      "\n",
      "NEW BEST: epoch 21 valid F1 96.57 best test F1 93.77\n",
      "\n",
      "\n",
      "NEW BEST: epoch 24 valid F1 96.71 best test F1 94.04\n",
      "NEW BEST: epoch 25 valid F1 96.93 best test F1 93.89\n",
      "\n",
      "\n",
      "\n",
      "\n",
      "\n",
      "\n",
      "\n",
      "\n",
      "\n",
      "\n",
      "\n",
      "NEW BEST: epoch 37 valid F1 96.96 best test F1 94.09\n",
      "NEW BEST: epoch 38 valid F1 97.16 best test F1 93.92\n",
      "\n",
      "\n",
      "\n",
      "\n",
      "\n",
      "\n",
      "\n",
      "\n",
      "\n",
      "\n",
      "\n",
      "\n",
      "\n",
      "\n",
      "\n",
      "\n",
      "\n",
      "\n",
      "\n",
      "\n",
      "\n",
      "BEST RESULT: epoch 38 valid F1 97.16 best test F1 93.92 with the model ../result\n",
      "Number of hidden units: 200, Context window size: 7, Word embedding size: 60\n",
      "verbose: True\n",
      "normal: True\n",
      "win: 7\n",
      "savemodel: False\n",
      "fold: 3\n",
      "seed: 345\n",
      "emb_dimension: 60\n",
      "nepochs: 60\n",
      "nhidden: 200\n",
      "decay: True\n",
      "lr: 0.0970806646813\n",
      "folder: ../result\n",
      "... loading the dataset\n",
      "... building the model\n",
      "... training\n",
      "NEW BEST: epoch 0 valid F1 69.67 best test F1 66.18\n",
      "NEW BEST: epoch 1 valid F1 79.99 best test F1 76.36\n",
      "NEW BEST: epoch 2 valid F1 83.92 best test F1 81.54\n",
      "NEW BEST: epoch 3 valid F1 88.07 best test F1 85.2\n",
      "NEW BEST: epoch 4 valid F1 89.25 best test F1 85.84\n",
      "NEW BEST: epoch 5 valid F1 91.38 best test F1 87.64\n",
      "NEW BEST: epoch 6 valid F1 91.79 best test F1 89.32\n",
      "NEW BEST: epoch 7 valid F1 93.01 best test F1 90.3\n",
      "NEW BEST: epoch 8 valid F1 93.74 best test F1 91.7\n",
      "NEW BEST: epoch 9 valid F1 94.14 best test F1 91.97\n",
      "NEW BEST: epoch 10 valid F1 94.49 best test F1 92.04\n",
      "NEW BEST: epoch 11 valid F1 94.94 best test F1 92.33\n",
      "NEW BEST: epoch 12 valid F1 95.72 best test F1 93.06\n",
      "\n",
      "NEW BEST: epoch 14 valid F1 95.75 best test F1 92.62\n",
      "\n",
      "\n",
      "NEW BEST: epoch 17 valid F1 96.26 best test F1 93.14\n",
      "NEW BEST: epoch 18 valid F1 96.38 best test F1 93.64\n",
      "\n",
      "\n",
      "NEW BEST: epoch 21 valid F1 96.65 best test F1 93.89\n",
      "NEW BEST: epoch 22 valid F1 96.74 best test F1 93.83\n",
      "\n",
      "NEW BEST: epoch 24 valid F1 96.9 best test F1 93.85\n",
      "\n",
      "\n",
      "\n",
      "\n",
      "\n",
      "\n",
      "\n",
      "\n",
      "\n",
      "NEW BEST: epoch 34 valid F1 97.04 best test F1 93.81\n",
      "\n",
      "NEW BEST: epoch 36 valid F1 97.06 best test F1 93.94\n",
      "\n",
      "NEW BEST: epoch 38 valid F1 97.16 best test F1 94.04\n",
      "\n",
      "\n",
      "\n",
      "\n",
      "\n",
      "\n",
      "\n",
      "\n",
      "\n",
      "\n",
      "NEW BEST: epoch 49 valid F1 97.24 best test F1 94.07\n",
      "\n",
      "\n",
      "\n",
      "\n",
      "\n",
      "\n",
      "\n",
      "\n",
      "\n",
      "\n",
      "BEST RESULT: epoch 49 valid F1 97.24 best test F1 94.07 with the model ../result\n",
      "Number of hidden units: 200, Context window size: 15, Word embedding size: 50\n",
      "verbose: True\n",
      "normal: True\n",
      "win: 15\n",
      "savemodel: False\n",
      "fold: 3\n",
      "seed: 345\n",
      "emb_dimension: 50\n",
      "nepochs: 60\n",
      "nhidden: 200\n",
      "decay: True\n",
      "lr: 0.0970806646813\n",
      "folder: ../result\n",
      "... loading the dataset\n",
      "... building the model\n",
      "... training\n",
      "NEW BEST: epoch 0 valid F1 68.06 best test F1 63.97\n",
      "NEW BEST: epoch 1 valid F1 79.27 best test F1 75.28\n",
      "NEW BEST: epoch 2 valid F1 82.84 best test F1 80.09\n",
      "NEW BEST: epoch 3 valid F1 87.61 best test F1 84.33\n",
      "NEW BEST: epoch 4 valid F1 89.63 best test F1 86.61\n",
      "NEW BEST: epoch 5 valid F1 90.74 best test F1 86.73\n",
      "NEW BEST: epoch 6 valid F1 92.18 best test F1 88.96\n",
      "NEW BEST: epoch 7 valid F1 93.17 best test F1 90.26\n",
      "NEW BEST: epoch 8 valid F1 94.06 best test F1 91.17\n",
      "NEW BEST: epoch 9 valid F1 94.55 best test F1 90.94\n",
      "NEW BEST: epoch 10 valid F1 95.18 best test F1 91.18\n",
      "NEW BEST: epoch 11 valid F1 95.23 best test F1 92.16\n",
      "NEW BEST: epoch 12 valid F1 95.67 best test F1 92.91\n",
      "NEW BEST: epoch 13 valid F1 95.83 best test F1 92.41\n",
      "NEW BEST: epoch 14 valid F1 96.16 best test F1 92.78\n",
      "\n",
      "\n",
      "NEW BEST: epoch 17 valid F1 96.33 best test F1 93.25\n",
      "NEW BEST: epoch 18 valid F1 96.41 best test F1 92.98\n",
      "NEW BEST: epoch 19 valid F1 96.53 best test F1 93.03\n",
      "NEW BEST: epoch 20 valid F1 96.7 best test F1 93.14\n",
      "\n",
      "NEW BEST: epoch 22 valid F1 96.8 best test F1 93.29\n",
      "\n",
      "\n",
      "\n",
      "\n",
      "\n",
      "\n",
      "\n",
      "NEW BEST: epoch 30 valid F1 96.81 best test F1 93.29\n",
      "NEW BEST: epoch 31 valid F1 96.95 best test F1 93.49\n",
      "\n",
      "\n",
      "NEW BEST: epoch 34 valid F1 97.06 best test F1 94.12\n",
      "\n",
      "\n",
      "\n",
      "\n",
      "\n",
      "\n",
      "\n",
      "\n",
      "\n",
      "NEW BEST: epoch 44 valid F1 97.07 best test F1 93.66\n",
      "\n",
      "\n",
      "\n",
      "\n",
      "\n",
      "\n",
      "\n",
      "\n",
      "\n",
      "\n",
      "\n",
      "\n",
      "\n",
      "\n",
      "\n",
      "NEW BEST: epoch 14 valid F1 95.98 best test F1 92.36\n",
      "NEW BEST: epoch 15 valid F1 96.05 best test F1 92.79\n",
      "\n",
      "NEW BEST: epoch 17 valid F1 96.17 best test F1 93.2\n",
      "NEW BEST: epoch 18 valid F1 96.26 best test F1 93.17\n",
      "NEW BEST: epoch 19 valid F1 96.53 best test F1 92.93\n",
      "\n",
      "\n",
      "NEW BEST: epoch 22 valid F1 96.67 best test F1 93.39\n",
      "NEW BEST: epoch 23 valid F1 96.68 best test F1 92.69\n",
      "NEW BEST: epoch 24 valid F1 96.71 best test F1 93.07\n",
      "NEW BEST: epoch 25 valid F1 96.78 best test F1 93.26\n",
      "NEW BEST: epoch 26 valid F1 96.8 best test F1 93.58\n",
      "\n",
      "NEW BEST: epoch 28 valid F1 96.83 best test F1 93.57\n",
      "\n",
      "\n",
      "\n",
      "\n",
      "\n",
      "NEW BEST: epoch 34 valid F1 96.88 best test F1 93.21\n",
      "\n",
      "NEW BEST: epoch 36 valid F1 96.95 best test F1 93.68\n",
      "\n",
      "\n",
      "NEW BEST: epoch 39 valid F1 97.05 best test F1 93.97\n",
      "\n",
      "\n",
      "\n",
      "\n",
      "\n",
      "\n",
      "\n",
      "NEW BEST: epoch 47 valid F1 97.33 best test F1 93.91\n",
      "\n",
      "\n",
      "\n",
      "\n",
      "\n",
      "\n",
      "\n",
      "\n",
      "\n",
      "\n",
      "\n",
      "\n",
      "BEST RESULT: epoch 47 valid F1 97.33 best test F1 93.91 with the model ../result\n",
      "[93.89, 93.61, 93.64, 93.92, 93.92, 94.07, 93.66, 93.91]\n"
     ]
    }
   ],
   "source": [
    "# TODO\n",
    "from hw4a import test_rnnslu\n",
    "import gc\n",
    "question1Output = []\n",
    "gc.collect()\n",
    "for nhidden_units in [100,200]:\n",
    "    for window_size in [7,15]:\n",
    "        for emb_dim in [50,60]:\n",
    "            print \"Number of hidden units: %s, Context window size: %s, Word embedding size: %s\"%(nhidden_units,window_size,emb_dim)\n",
    "            question1Output.append(test_rnnslu(fold=3, lr=0.0970806646812754, verbose=True, decay=True, win=window_size, \n",
    "                                          nhidden=nhidden_units, seed=345, emb_dimension=emb_dim, nepochs=60))\n",
    "            gc.collect()\n",
    "print question1Output"
   ]
  },
  {
   "cell_type": "markdown",
   "metadata": {},
   "source": [
    "### a.i Experiment with RNNSLU\n",
    "\n",
    "Testing accuracy achieved is stated below:\n",
    "```\n",
    "[hidden units, context window, embedding dimension -------- Testing accuracy]\n",
    "  100,             7,           50                            93.89\n",
    "  100,             7,           60                            93.61\n",
    "  100,            15,           50                            93.64\n",
    "  100,            15,           60                            93.92\n",
    "  200,             7,           50                            93.92\n",
    "  200,            15,           60                            94.07\n",
    "  200,            15,           50                            93.66\n",
    "  200,            15,           60                            93.91\n",
    "```\n",
    "\n",
    "The testing accuracy consistently stays within range of 93.89 +/- 0.6 percent. However, we can see that when the embedding dimension increases the testing accuracy decreases."
   ]
  },
  {
   "cell_type": "markdown",
   "metadata": {},
   "source": [
    "#### Bullet 2: Experiment with RNNSLU without normalizing word embeddings"
   ]
  },
  {
   "cell_type": "code",
   "execution_count": 1,
   "metadata": {
    "collapsed": false,
    "scrolled": true
   },
   "outputs": [
    {
     "name": "stdout",
     "output_type": "stream",
     "text": [
      "Number of hidden units: 100, Context window size: 7, Word embedding size: 50\n",
      "verbose: True\n",
      "normal: False\n",
      "win: 7\n",
      "savemodel: False\n",
      "fold: 3\n",
      "seed: 345\n",
      "emb_dimension: 50\n",
      "nepochs: 60\n",
      "nhidden: 100\n",
      "decay: True\n",
      "lr: 0.0970806646813\n",
      "folder: ../result\n",
      "... loading the dataset\n",
      "... building the model\n",
      "... training\n",
      "NEW BEST: epoch 0 valid F1 63.39 best test F1 60.51\n",
      "NEW BEST: epoch 1 valid F1 75.46 best test F1 72.37\n",
      "NEW BEST: epoch 2 valid F1 80.34 best test F1 77.06\n",
      "NEW BEST: epoch 3 valid F1 83.89 best test F1 80.94\n",
      "NEW BEST: epoch 4 valid F1 85.89 best test F1 82.83\n",
      "NEW BEST: epoch 5 valid F1 88.02 best test F1 84.35\n",
      "NEW BEST: epoch 6 valid F1 89.36 best test F1 85.14\n",
      "NEW BEST: epoch 7 valid F1 90.96 best test F1 87.83\n",
      "NEW BEST: epoch 8 valid F1 91.66 best test F1 88.68\n",
      "NEW BEST: epoch 9 valid F1 93.03 best test F1 89.86\n",
      "NEW BEST: epoch 10 valid F1 93.53 best test F1 90.73\n",
      "NEW BEST: epoch 11 valid F1 94.0 best test F1 91.15\n",
      "NEW BEST: epoch 12 valid F1 94.31 best test F1 91.34\n",
      "NEW BEST: epoch 13 valid F1 94.62 best test F1 92.11\n",
      "NEW BEST: epoch 14 valid F1 94.74 best test F1 91.72\n",
      "NEW BEST: epoch 15 valid F1 95.54 best test F1 92.5\n",
      "NEW BEST: epoch 16 valid F1 95.61 best test F1 92.79\n",
      "\n",
      "NEW BEST: epoch 18 valid F1 95.93 best test F1 93.05\n",
      "NEW BEST: epoch 19 valid F1 96.07 best test F1 93.14\n",
      "\n",
      "NEW BEST: epoch 21 valid F1 96.28 best test F1 93.67\n",
      "NEW BEST: epoch 22 valid F1 96.68 best test F1 93.65\n",
      "\n",
      "\n",
      "\n",
      "\n",
      "NEW BEST: epoch 27 valid F1 96.72 best test F1 93.64\n",
      "\n",
      "\n",
      "\n",
      "\n",
      "\n",
      "\n",
      "NEW BEST: epoch 34 valid F1 96.99 best test F1 93.48\n",
      "\n",
      "\n",
      "NEW BEST: epoch 37 valid F1 97.01 best test F1 93.99\n",
      "\n",
      "NEW BEST: epoch 39 valid F1 97.13 best test F1 93.7\n",
      "\n",
      "NEW BEST: epoch 41 valid F1 97.2 best test F1 93.79\n",
      "\n",
      "\n",
      "\n",
      "\n",
      "\n",
      "\n",
      "\n",
      "\n",
      "\n",
      "\n",
      "\n",
      "NEW BEST: epoch 53 valid F1 97.22 best test F1 93.97\n",
      "\n",
      "\n",
      "\n",
      "\n",
      "\n",
      "NEW BEST: epoch 59 valid F1 97.25 best test F1 93.89\n",
      "BEST RESULT: epoch 59 valid F1 97.25 best test F1 93.89 with the model ../result\n",
      "Iteration BEST Test:  93.89\n",
      "Number of hidden units: 100, Context window size: 7, Word embedding size: 60\n",
      "verbose: True\n",
      "normal: False\n",
      "win: 7\n",
      "savemodel: False\n",
      "fold: 3\n",
      "seed: 345\n",
      "emb_dimension: 60\n",
      "nepochs: 60\n",
      "nhidden: 100\n",
      "decay: True\n",
      "lr: 0.0970806646813\n",
      "folder: ../result\n",
      "... loading the dataset\n",
      "... building the model\n",
      "... training\n",
      "NEW BEST: epoch 0 valid F1 65.15 best test F1 61.77\n",
      "NEW BEST: epoch 1 valid F1 76.67 best test F1 72.02\n",
      "NEW BEST: epoch 2 valid F1 82.45 best test F1 77.86\n",
      "NEW BEST: epoch 3 valid F1 85.27 best test F1 81.8\n",
      "NEW BEST: epoch 4 valid F1 87.37 best test F1 83.83\n",
      "NEW BEST: epoch 5 valid F1 89.15 best test F1 85.0\n",
      "NEW BEST: epoch 6 valid F1 89.8 best test F1 86.86\n",
      "NEW BEST: epoch 7 valid F1 91.12 best test F1 88.51\n",
      "NEW BEST: epoch 8 valid F1 92.0 best test F1 89.31\n",
      "NEW BEST: epoch 9 valid F1 93.2 best test F1 90.75\n",
      "NEW BEST: epoch 10 valid F1 93.65 best test F1 90.77\n",
      "\n",
      "NEW BEST: epoch 12 valid F1 94.47 best test F1 92.38\n",
      "\n",
      "NEW BEST: epoch 14 valid F1 95.02 best test F1 92.41\n",
      "\n",
      "NEW BEST: epoch 16 valid F1 95.25 best test F1 93.2\n",
      "NEW BEST: epoch 17 valid F1 95.6 best test F1 93.22\n",
      "NEW BEST: epoch 18 valid F1 96.01 best test F1 93.01\n",
      "\n",
      "\n",
      "NEW BEST: epoch 21 valid F1 96.17 best test F1 93.46\n",
      "NEW BEST: epoch 22 valid F1 96.23 best test F1 93.08\n",
      "NEW BEST: epoch 23 valid F1 96.37 best test F1 93.06\n",
      "\n",
      "\n",
      "\n",
      "\n",
      "NEW BEST: epoch 28 valid F1 96.56 best test F1 93.18\n",
      "\n",
      "\n",
      "NEW BEST: epoch 31 valid F1 96.71 best test F1 93.46\n",
      "\n",
      "\n",
      "\n",
      "\n",
      "\n",
      "NEW BEST: epoch 37 valid F1 96.9 best test F1 93.61\n",
      "\n",
      "\n",
      "\n",
      "\n",
      "\n",
      "\n",
      "\n",
      "\n",
      "\n",
      "\n",
      "\n",
      "\n",
      "\n",
      "\n",
      "\n",
      "\n",
      "\n",
      "\n",
      "\n",
      "\n",
      "\n",
      "\n",
      "BEST RESULT: epoch 37 valid F1 96.9 best test F1 93.61 with the model ../result\n",
      "Iteration BEST Test:  93.61\n",
      "Number of hidden units: 100, Context window size: 15, Word embedding size: 50\n",
      "verbose: True\n",
      "normal: False\n",
      "win: 15\n",
      "savemodel: False\n",
      "fold: 3\n",
      "seed: 345\n",
      "emb_dimension: 50\n",
      "nepochs: 60\n",
      "nhidden: 100\n",
      "decay: True\n",
      "lr: 0.0970806646813\n",
      "folder: ../result\n",
      "... loading the dataset\n",
      "... building the model\n",
      "... training\n",
      "NEW BEST: epoch 0 valid F1 62.91 best test F1 59.42\n",
      "NEW BEST: epoch 1 valid F1 73.76 best test F1 71.44\n",
      "NEW BEST: epoch 2 valid F1 81.27 best test F1 77.79\n",
      "NEW BEST: epoch 3 valid F1 85.01 best test F1 81.46\n",
      "NEW BEST: epoch 4 valid F1 87.59 best test F1 83.63\n",
      "NEW BEST: epoch 5 valid F1 89.12 best test F1 84.67\n",
      "NEW BEST: epoch 6 valid F1 89.63 best test F1 85.27\n",
      "NEW BEST: epoch 7 valid F1 91.3 best test F1 87.73\n",
      "NEW BEST: epoch 8 valid F1 92.3 best test F1 88.67\n",
      "NEW BEST: epoch 9 valid F1 93.18 best test F1 90.05\n",
      "NEW BEST: epoch 10 valid F1 93.97 best test F1 90.54\n",
      "NEW BEST: epoch 11 valid F1 94.22 best test F1 91.57\n",
      "NEW BEST: epoch 12 valid F1 94.57 best test F1 91.24\n",
      "NEW BEST: epoch 13 valid F1 94.63 best test F1 91.41\n",
      "\n",
      "NEW BEST: epoch 15 valid F1 96.0 best test F1 92.65\n",
      "\n",
      "\n",
      "\n",
      "\n",
      "\n",
      "\n",
      "NEW BEST: epoch 22 valid F1 96.31 best test F1 93.08\n",
      "NEW BEST: epoch 23 valid F1 96.35 best test F1 93.34\n",
      "NEW BEST: epoch 24 valid F1 96.39 best test F1 93.29\n",
      "NEW BEST: epoch 25 valid F1 96.48 best test F1 93.21\n",
      "\n",
      "NEW BEST: epoch 27 valid F1 96.5 best test F1 93.23\n",
      "NEW BEST: epoch 28 valid F1 96.62 best test F1 93.52\n",
      "\n",
      "\n",
      "\n",
      "\n",
      "\n",
      "NEW BEST: epoch 34 valid F1 96.8 best test F1 93.64\n",
      "\n",
      "\n",
      "NEW BEST: epoch 37 valid F1 96.83 best test F1 93.49\n",
      "NEW BEST: epoch 38 valid F1 96.9 best test F1 93.63\n",
      "\n",
      "\n",
      "\n",
      "\n",
      "\n",
      "\n",
      "\n",
      "\n",
      "NEW BEST: epoch 47 valid F1 96.92 best test F1 93.35\n",
      "\n",
      "\n",
      "\n",
      "\n",
      "NEW BEST: epoch 52 valid F1 96.95 best test F1 93.65\n",
      "\n",
      "NEW BEST: epoch 54 valid F1 97.0 best test F1 93.64\n",
      "\n",
      "\n",
      "\n",
      "\n",
      "\n",
      "BEST RESULT: epoch 54 valid F1 97.0 best test F1 93.64 with the model ../result\n",
      "Iteration BEST Test:  93.64\n",
      "Number of hidden units: 100, Context window size: 15, Word embedding size: 60\n",
      "verbose: True\n",
      "normal: False\n",
      "win: 15\n",
      "savemodel: False\n",
      "fold: 3\n",
      "seed: 345\n",
      "emb_dimension: 60\n",
      "nepochs: 60\n",
      "nhidden: 100\n",
      "decay: True\n",
      "lr: 0.0970806646813\n",
      "folder: ../result\n",
      "... loading the dataset\n",
      "... building the model\n",
      "... training\n",
      "NEW BEST: epoch 0 valid F1 62.93 best test F1 60.38\n",
      "NEW BEST: epoch 1 valid F1 75.22 best test F1 71.48\n",
      "NEW BEST: epoch 2 valid F1 81.32 best test F1 77.78\n",
      "NEW BEST: epoch 3 valid F1 83.55 best test F1 79.77\n",
      "NEW BEST: epoch 4 valid F1 86.51 best test F1 83.17\n",
      "NEW BEST: epoch 5 valid F1 88.25 best test F1 85.15\n",
      "NEW BEST: epoch 6 valid F1 89.34 best test F1 85.35\n",
      "NEW BEST: epoch 7 valid F1 91.42 best test F1 88.39\n",
      "NEW BEST: epoch 8 valid F1 92.46 best test F1 89.18\n",
      "NEW BEST: epoch 9 valid F1 92.49 best test F1 89.75\n",
      "NEW BEST: epoch 10 valid F1 93.2 best test F1 89.67\n",
      "NEW BEST: epoch 11 valid F1 93.9 best test F1 91.36\n",
      "NEW BEST: epoch 12 valid F1 94.71 best test F1 91.87\n",
      "\n",
      "NEW BEST: epoch 14 valid F1 94.73 best test F1 92.21\n",
      "NEW BEST: epoch 15 valid F1 95.5 best test F1 92.65\n",
      "\n",
      "NEW BEST: epoch 17 valid F1 95.53 best test F1 92.96\n",
      "NEW BEST: epoch 18 valid F1 95.75 best test F1 93.08\n",
      "NEW BEST: epoch 19 valid F1 95.95 best test F1 93.3\n",
      "NEW BEST: epoch 20 valid F1 95.97 best test F1 92.75\n",
      "NEW BEST: epoch 21 valid F1 96.16 best test F1 93.19\n",
      "\n",
      "NEW BEST: epoch 23 valid F1 96.24 best test F1 93.45\n",
      "NEW BEST: epoch 24 valid F1 96.47 best test F1 93.43\n",
      "\n",
      "\n",
      "NEW BEST: epoch 27 valid F1 96.57 best test F1 93.84\n",
      "\n",
      "\n",
      "\n",
      "\n",
      "\n",
      "\n",
      "\n",
      "\n",
      "\n",
      "NEW BEST: epoch 37 valid F1 96.62 best test F1 94.02\n",
      "\n",
      "\n",
      "\n",
      "NEW BEST: epoch 41 valid F1 96.68 best test F1 93.82\n",
      "\n",
      "\n",
      "\n",
      "\n",
      "\n",
      "\n",
      "\n",
      "NEW BEST: epoch 49 valid F1 96.72 best test F1 93.89\n",
      "\n",
      "\n",
      "\n",
      "\n",
      "\n",
      "\n",
      "NEW BEST: epoch 56 valid F1 96.8 best test F1 93.93\n",
      "\n",
      "\n",
      "\n",
      "BEST RESULT: epoch 56 valid F1 96.8 best test F1 93.93 with the model ../result\n",
      "Iteration BEST Test:  93.93\n",
      "Number of hidden units: 200, Context window size: 7, Word embedding size: 50\n",
      "verbose: True\n",
      "normal: False\n",
      "win: 7\n",
      "savemodel: False\n",
      "fold: 3\n",
      "seed: 345\n",
      "emb_dimension: 50\n",
      "nepochs: 60\n",
      "nhidden: 200\n",
      "decay: True\n",
      "lr: 0.0970806646813\n",
      "folder: ../result\n",
      "... loading the dataset\n",
      "... building the model\n",
      "... training\n",
      "NEW BEST: epoch 0 valid F1 68.59 best test F1 66.65\n",
      "NEW BEST: epoch 1 valid F1 80.45 best test F1 77.65\n",
      "NEW BEST: epoch 2 valid F1 83.67 best test F1 80.35\n",
      "NEW BEST: epoch 3 valid F1 88.05 best test F1 84.08\n",
      "NEW BEST: epoch 4 valid F1 89.42 best test F1 86.0\n",
      "NEW BEST: epoch 5 valid F1 91.12 best test F1 86.69\n",
      "NEW BEST: epoch 6 valid F1 91.55 best test F1 88.62\n",
      "NEW BEST: epoch 7 valid F1 91.79 best test F1 89.73\n",
      "NEW BEST: epoch 8 valid F1 93.63 best test F1 90.55\n",
      "NEW BEST: epoch 9 valid F1 94.17 best test F1 91.56\n",
      "NEW BEST: epoch 10 valid F1 94.45 best test F1 91.52\n",
      "NEW BEST: epoch 11 valid F1 94.72 best test F1 92.45\n",
      "NEW BEST: epoch 12 valid F1 95.31 best test F1 92.76\n",
      "NEW BEST: epoch 13 valid F1 95.36 best test F1 92.87\n",
      "\n",
      "NEW BEST: epoch 15 valid F1 95.64 best test F1 92.99\n",
      "NEW BEST: epoch 16 valid F1 95.71 best test F1 93.39\n",
      "NEW BEST: epoch 17 valid F1 95.97 best test F1 93.02\n",
      "NEW BEST: epoch 18 valid F1 96.5 best test F1 93.52\n",
      "\n",
      "\n",
      "NEW BEST: epoch 21 valid F1 96.57 best test F1 93.77\n",
      "\n",
      "\n",
      "NEW BEST: epoch 24 valid F1 96.71 best test F1 94.04\n",
      "NEW BEST: epoch 25 valid F1 96.93 best test F1 93.89\n",
      "\n",
      "\n",
      "\n",
      "\n",
      "\n",
      "\n",
      "\n",
      "\n",
      "\n",
      "\n",
      "\n",
      "NEW BEST: epoch 37 valid F1 96.96 best test F1 94.09\n",
      "NEW BEST: epoch 38 valid F1 97.16 best test F1 93.92\n",
      "\n",
      "\n",
      "\n",
      "\n",
      "\n",
      "\n",
      "\n",
      "\n",
      "\n",
      "\n",
      "\n",
      "\n",
      "\n",
      "\n",
      "\n",
      "\n",
      "\n",
      "\n",
      "\n",
      "\n",
      "\n",
      "BEST RESULT: epoch 38 valid F1 97.16 best test F1 93.92 with the model ../result\n",
      "Iteration BEST Test:  93.92\n",
      "Number of hidden units: 200, Context window size: 7, Word embedding size: 60\n",
      "verbose: True\n",
      "normal: False\n",
      "win: 7\n",
      "savemodel: False\n",
      "fold: 3\n",
      "seed: 345\n",
      "emb_dimension: 60\n",
      "nepochs: 60\n",
      "nhidden: 200\n",
      "decay: True\n",
      "lr: 0.0970806646813\n",
      "folder: ../result\n",
      "... loading the dataset\n",
      "... building the model\n",
      "... training\n",
      "NEW BEST: epoch 0 valid F1 69.67 best test F1 66.18\n",
      "NEW BEST: epoch 1 valid F1 79.99 best test F1 76.36\n",
      "NEW BEST: epoch 2 valid F1 83.92 best test F1 81.54\n",
      "NEW BEST: epoch 3 valid F1 88.07 best test F1 85.2\n",
      "NEW BEST: epoch 4 valid F1 89.25 best test F1 85.84\n",
      "NEW BEST: epoch 5 valid F1 91.38 best test F1 87.64\n",
      "NEW BEST: epoch 6 valid F1 91.79 best test F1 89.32\n",
      "NEW BEST: epoch 7 valid F1 93.01 best test F1 90.3\n",
      "NEW BEST: epoch 8 valid F1 93.74 best test F1 91.7\n",
      "NEW BEST: epoch 9 valid F1 94.14 best test F1 91.97\n",
      "NEW BEST: epoch 10 valid F1 94.49 best test F1 92.04\n",
      "NEW BEST: epoch 11 valid F1 94.94 best test F1 92.33\n",
      "NEW BEST: epoch 12 valid F1 95.72 best test F1 93.06\n",
      "\n",
      "NEW BEST: epoch 14 valid F1 95.75 best test F1 92.62\n",
      "\n",
      "\n",
      "NEW BEST: epoch 17 valid F1 96.26 best test F1 93.14\n",
      "NEW BEST: epoch 18 valid F1 96.38 best test F1 93.64\n",
      "\n",
      "\n",
      "NEW BEST: epoch 21 valid F1 96.65 best test F1 93.89\n",
      "NEW BEST: epoch 22 valid F1 96.74 best test F1 93.83\n",
      "\n",
      "NEW BEST: epoch 24 valid F1 96.9 best test F1 93.85\n",
      "\n",
      "\n",
      "\n",
      "\n",
      "\n",
      "\n",
      "\n",
      "\n",
      "\n",
      "NEW BEST: epoch 34 valid F1 97.1 best test F1 93.82\n",
      "\n",
      "NEW BEST: epoch 36 valid F1 97.12 best test F1 93.94\n",
      "\n",
      "\n",
      "NEW BEST: epoch 39 valid F1 97.13 best test F1 93.83\n",
      "\n",
      "NEW BEST: epoch 41 valid F1 97.15 best test F1 93.82\n",
      "\n",
      "\n",
      "\n",
      "\n",
      "\n",
      "\n",
      "\n",
      "NEW BEST: epoch 49 valid F1 97.21 best test F1 94.0\n",
      "\n",
      "\n",
      "\n",
      "\n",
      "\n",
      "\n",
      "NEW BEST: epoch 56 valid F1 97.26 best test F1 93.99\n",
      "\n",
      "\n",
      "\n",
      "BEST RESULT: epoch 56 valid F1 97.26 best test F1 93.99 with the model ../result\n",
      "Iteration BEST Test:  93.99\n",
      "Number of hidden units: 200, Context window size: 15, Word embedding size: 50\n",
      "verbose: True\n",
      "normal: False\n",
      "win: 15\n",
      "savemodel: False\n",
      "fold: 3\n",
      "seed: 345\n",
      "emb_dimension: 50\n",
      "nepochs: 60\n",
      "nhidden: 200\n",
      "decay: True\n",
      "lr: 0.0970806646813\n",
      "folder: ../result\n",
      "... loading the dataset\n",
      "... building the model\n",
      "... training\n",
      "NEW BEST: epoch 0 valid F1 68.06 best test F1 63.97\n",
      "NEW BEST: epoch 1 valid F1 79.27 best test F1 75.28\n",
      "NEW BEST: epoch 2 valid F1 82.84 best test F1 80.09\n",
      "NEW BEST: epoch 3 valid F1 87.61 best test F1 84.33\n",
      "NEW BEST: epoch 4 valid F1 89.63 best test F1 86.61\n",
      "NEW BEST: epoch 5 valid F1 90.74 best test F1 86.73\n",
      "NEW BEST: epoch 6 valid F1 92.18 best test F1 88.96\n",
      "NEW BEST: epoch 7 valid F1 93.17 best test F1 90.26\n",
      "NEW BEST: epoch 8 valid F1 94.06 best test F1 91.17\n",
      "NEW BEST: epoch 9 valid F1 94.55 best test F1 90.94\n",
      "NEW BEST: epoch 10 valid F1 95.18 best test F1 91.18\n",
      "NEW BEST: epoch 11 valid F1 95.23 best test F1 92.16\n",
      "NEW BEST: epoch 12 valid F1 95.67 best test F1 92.91\n",
      "NEW BEST: epoch 13 valid F1 95.83 best test F1 92.41\n",
      "NEW BEST: epoch 14 valid F1 96.16 best test F1 92.78\n",
      "\n",
      "\n",
      "NEW BEST: epoch 17 valid F1 96.33 best test F1 93.25\n",
      "NEW BEST: epoch 18 valid F1 96.41 best test F1 92.98\n",
      "NEW BEST: epoch 19 valid F1 96.53 best test F1 93.03\n",
      "NEW BEST: epoch 20 valid F1 96.7 best test F1 93.14\n",
      "\n",
      "NEW BEST: epoch 22 valid F1 96.8 best test F1 93.29\n",
      "\n",
      "\n",
      "\n",
      "\n",
      "\n",
      "\n",
      "\n",
      "NEW BEST: epoch 30 valid F1 96.81 best test F1 93.29\n",
      "NEW BEST: epoch 31 valid F1 96.95 best test F1 93.49\n",
      "\n",
      "\n",
      "NEW BEST: epoch 34 valid F1 97.06 best test F1 94.12\n",
      "\n",
      "\n",
      "\n",
      "\n",
      "\n",
      "\n",
      "\n",
      "\n",
      "\n",
      "NEW BEST: epoch 44 valid F1 97.07 best test F1 93.66\n",
      "\n",
      "\n",
      "\n",
      "\n",
      "\n",
      "\n",
      "\n",
      "\n",
      "\n",
      "\n",
      "\n",
      "\n",
      "\n",
      "\n",
      "\n",
      "BEST RESULT: epoch 44 valid F1 97.07 best test F1 93.66 with the model ../result\n",
      "Iteration BEST Test:  93.66\n",
      "Number of hidden units: 200, Context window size: 15, Word embedding size: 60\n",
      "verbose: True\n",
      "normal: False\n",
      "win: 15\n",
      "savemodel: False\n",
      "fold: 3\n",
      "seed: 345\n",
      "emb_dimension: 60\n",
      "nepochs: 60\n",
      "nhidden: 200\n",
      "decay: True\n",
      "lr: 0.0970806646813\n",
      "folder: ../result\n",
      "... loading the dataset\n",
      "... building the model\n",
      "... training\n",
      "NEW BEST: epoch 0 valid F1 69.86 best test F1 65.68\n",
      "NEW BEST: epoch 1 valid F1 79.18 best test F1 75.99\n",
      "NEW BEST: epoch 2 valid F1 83.43 best test F1 81.98\n",
      "NEW BEST: epoch 3 valid F1 87.86 best test F1 84.44\n",
      "NEW BEST: epoch 4 valid F1 89.89 best test F1 86.4\n",
      "NEW BEST: epoch 5 valid F1 91.23 best test F1 87.22\n",
      "NEW BEST: epoch 6 valid F1 92.56 best test F1 89.5\n",
      "NEW BEST: epoch 7 valid F1 93.1 best test F1 90.25\n",
      "NEW BEST: epoch 8 valid F1 93.89 best test F1 90.9\n",
      "NEW BEST: epoch 9 valid F1 94.59 best test F1 91.33\n",
      "NEW BEST: epoch 10 valid F1 94.91 best test F1 90.77\n",
      "NEW BEST: epoch 11 valid F1 94.94 best test F1 91.92\n",
      "NEW BEST: epoch 12 valid F1 95.97 best test F1 92.68\n",
      "\n",
      "NEW BEST: epoch 14 valid F1 95.98 best test F1 92.36\n",
      "NEW BEST: epoch 15 valid F1 96.05 best test F1 92.79\n",
      "\n",
      "NEW BEST: epoch 17 valid F1 96.17 best test F1 93.2\n",
      "NEW BEST: epoch 18 valid F1 96.26 best test F1 93.17\n",
      "NEW BEST: epoch 19 valid F1 96.53 best test F1 92.93\n",
      "\n",
      "\n",
      "NEW BEST: epoch 22 valid F1 96.67 best test F1 93.39\n",
      "NEW BEST: epoch 23 valid F1 96.68 best test F1 92.69\n",
      "NEW BEST: epoch 24 valid F1 96.71 best test F1 93.07\n",
      "NEW BEST: epoch 25 valid F1 96.78 best test F1 93.26\n",
      "NEW BEST: epoch 26 valid F1 96.8 best test F1 93.58\n",
      "\n",
      "NEW BEST: epoch 28 valid F1 96.83 best test F1 93.57\n",
      "\n",
      "\n",
      "\n",
      "\n",
      "\n",
      "NEW BEST: epoch 34 valid F1 96.88 best test F1 93.21\n",
      "\n",
      "NEW BEST: epoch 36 valid F1 96.95 best test F1 93.68\n",
      "\n",
      "\n",
      "NEW BEST: epoch 39 valid F1 97.05 best test F1 93.97\n",
      "\n",
      "\n",
      "\n",
      "\n",
      "\n",
      "\n",
      "\n",
      "NEW BEST: epoch 47 valid F1 97.33 best test F1 93.91\n",
      "\n",
      "\n",
      "\n",
      "\n",
      "\n",
      "\n",
      "\n",
      "\n",
      "\n",
      "\n",
      "\n",
      "\n",
      "BEST RESULT: epoch 47 valid F1 97.33 best test F1 93.91 with the model ../result\n",
      "Iteration BEST Test:  93.91\n",
      "[93.89, 93.61, 93.64, 93.93, 93.92, 93.99, 93.66, 93.91]\n"
     ]
    },
    {
     "name": "stderr",
     "output_type": "stream",
     "text": [
      "Using gpu device 0: GRID K520\n"
     ]
    }
   ],
   "source": [
    "# TODO\n",
    "from hw4a import test_rnnslu\n",
    "import gc\n",
    "question2Output = []\n",
    "gc.collect()\n",
    "for nhidden_units in [100,200]:\n",
    "    for window_size in [7,15]:\n",
    "        for emb_dim in [50,60]:\n",
    "            print \"Number of hidden units: %s, Context window size: %s, Word embedding size: %s\"%(nhidden_units,window_size,emb_dim)\n",
    "            tmp = test_rnnslu(fold=3, lr=0.0970806646812754, verbose=True, decay=True, win=window_size, \n",
    "                                          nhidden=nhidden_units, seed=345, emb_dimension=emb_dim, nepochs=60,normal=False)\n",
    "            print \"Iteration BEST Test: \",tmp\n",
    "            question2Output.append(tmp)\n",
    "            gc.collect()\n",
    "print question2Output"
   ]
  },
  {
   "cell_type": "markdown",
   "metadata": {},
   "source": [
    "### a.ii Experiment with RNNSLU without normalizing word embeddings\n",
    "Testing accuracy across 8 iterations with normal = False is as follows:\n",
    "```\n",
    "[hidden units, context window, embedding dimension -------- Testing accuracy]\n",
    "  100,             7,           50                            93.89\n",
    "  100,             7,           60                            93.61\n",
    "  100,            15,           50                            93.64\n",
    "  100,            15,           60                            93.93\n",
    "  200,             7,           50                            93.92\n",
    "  200,             7,           60                            93.99\n",
    "  200,            15,           50                            93.66\n",
    "  200,            15,           60                            93.91\n",
    "```\n",
    "\n",
    "When the embeddings are not normalized, the testing accuracy decreases. However, the testing accuracy increases as the number of hidden units increase. "
   ]
  },
  {
   "cell_type": "markdown",
   "metadata": {},
   "source": [
    "#### Bullet 3: Implement RNN with two hidden layers"
   ]
  },
  {
   "cell_type": "code",
   "execution_count": null,
   "metadata": {
    "collapsed": false,
    "scrolled": true
   },
   "outputs": [
    {
     "name": "stdout",
     "output_type": "stream",
     "text": [
      "Number of hidden units 1: 100, Number of hidden units 2: 100, Context window size: 7, Word embedding size: 50\n",
      "verbose: True\n",
      "nhidden2: 100\n",
      "win: 7\n",
      "nhidden1: 100\n",
      "savemodel: False\n",
      "fold: 3\n",
      "seed: 345\n",
      "emb_dimension: 50\n",
      "nepochs: 20\n",
      "decay: True\n",
      "lr: 0.0970806646813\n",
      "folder: ../result\n",
      "... loading the dataset\n",
      "... building the model\n",
      "... training\n",
      "NEW BEST: epoch 0 valid F1 56.16 best test F1 51.84\n",
      "NEW BEST: epoch 1 valid F1 65.37 best test F1 62.78\n",
      "NEW BEST: epoch 2 valid F1 72.55 best test F1 70.22\n",
      "NEW BEST: epoch 3 valid F1 77.2 best test F1 75.09\n",
      "NEW BEST: epoch 4 valid F1 81.61 best test F1 79.0\n",
      "NEW BEST: epoch 5 valid F1 83.25 best test F1 80.83\n",
      "NEW BEST: epoch 6 valid F1 85.43 best test F1 82.55\n",
      "NEW BEST: epoch 7 valid F1 86.94 best test F1 84.14\n",
      "NEW BEST: epoch 8 valid F1 87.83 best test F1 85.2\n",
      "NEW BEST: epoch 9 valid F1 88.88 best test F1 85.41\n",
      "NEW BEST: epoch 10 valid F1 90.28 best test F1 87.14\n",
      "NEW BEST: epoch 11 valid F1 90.31 best test F1 87.41\n",
      "NEW BEST: epoch 12 valid F1 92.33 best test F1 88.78\n",
      "\n",
      "\n",
      "NEW BEST: epoch 15 valid F1 93.29 best test F1 89.91\n",
      "\n",
      "NEW BEST: epoch 17 valid F1 93.62 best test F1 90.45\n",
      "NEW BEST: epoch 18 valid F1 93.81 best test F1 90.68\n",
      "NEW BEST: epoch 19 valid F1 94.19 best test F1 91.08\n",
      "BEST RESULT: epoch 19 valid F1 94.19 best test F1 91.08 with the model ../result\n",
      "Iteration BEST test score:  91.08\n",
      "Number of hidden units 1: 100, Number of hidden units 2: 100, Context window size: 7, Word embedding size: 60\n",
      "verbose: True\n",
      "nhidden2: 100\n",
      "win: 7\n",
      "nhidden1: 100\n",
      "savemodel: False\n",
      "fold: 3\n",
      "seed: 345\n",
      "emb_dimension: 60\n",
      "nepochs: 20\n",
      "decay: True\n",
      "lr: 0.0970806646813\n",
      "folder: ../result\n",
      "... loading the dataset\n",
      "... building the model\n",
      "... training\n",
      "NEW BEST: epoch 0 valid F1 57.87 best test F1 54.06\n",
      "NEW BEST: epoch 1 valid F1 63.4 best test F1 60.0\n",
      "NEW BEST: epoch 2 valid F1 71.86 best test F1 70.43\n",
      "NEW BEST: epoch 3 valid F1 76.95 best test F1 73.59\n",
      "NEW BEST: epoch 4 valid F1 81.79 best test F1 79.54\n",
      "NEW BEST: epoch 5 valid F1 84.48 best test F1 81.71\n",
      "NEW BEST: epoch 6 valid F1 85.63 best test F1 83.0\n",
      "NEW BEST: epoch 7 valid F1 88.18 best test F1 84.75\n",
      "NEW BEST: epoch 8 valid F1 89.19 best test F1 86.25\n",
      "NEW BEST: epoch 9 valid F1 89.39 best test F1 86.06\n",
      "NEW BEST: epoch 10 valid F1 90.69 best test F1 87.93\n",
      "NEW BEST: epoch 11 valid F1 91.33 best test F1 89.0\n",
      "NEW BEST: epoch 12 valid F1 92.11 best test F1 89.01\n",
      "NEW BEST: epoch 13 valid F1 92.29 best test F1 89.06\n",
      "\n",
      "NEW BEST: epoch 15 valid F1 92.83 best test F1 89.32\n",
      "NEW BEST: epoch 16 valid F1 93.17 best test F1 90.35\n",
      "NEW BEST: epoch 17 valid F1 93.6 best test F1 90.68\n",
      "NEW BEST: epoch 18 valid F1 94.2 best test F1 91.12\n",
      "\n",
      "BEST RESULT: epoch 18 valid F1 94.2 best test F1 91.12 with the model ../result\n",
      "Iteration BEST test score:  91.12\n",
      "Number of hidden units 1: 100, Number of hidden units 2: 100, Context window size: 15, Word embedding size: 50\n",
      "verbose: True\n",
      "nhidden2: 100\n",
      "win: 15\n",
      "nhidden1: 100\n",
      "savemodel: False\n",
      "fold: 3\n",
      "seed: 345\n",
      "emb_dimension: 50\n",
      "nepochs: 20\n",
      "decay: True\n",
      "lr: 0.0970806646813\n",
      "folder: ../result\n",
      "... loading the dataset\n",
      "... building the model\n",
      "... training\n",
      "NEW BEST: epoch 0 valid F1 55.6 best test F1 51.3\n",
      "NEW BEST: epoch 1 valid F1 65.84 best test F1 63.33\n",
      "NEW BEST: epoch 2 valid F1 72.42 best test F1 70.07\n",
      "NEW BEST: epoch 3 valid F1 77.86 best test F1 73.81\n",
      "NEW BEST: epoch 4 valid F1 81.96 best test F1 78.24\n",
      "NEW BEST: epoch 5 valid F1 84.36 best test F1 80.65\n",
      "NEW BEST: epoch 6 valid F1 84.92 best test F1 82.5\n",
      "NEW BEST: epoch 7 valid F1 87.32 best test F1 84.81\n",
      "NEW BEST: epoch 8 valid F1 87.44 best test F1 85.3\n",
      "NEW BEST: epoch 9 valid F1 88.37 best test F1 86.07\n",
      "NEW BEST: epoch 10 valid F1 90.28 best test F1 87.42\n",
      "NEW BEST: epoch 11 valid F1 91.18 best test F1 88.78\n",
      "NEW BEST: epoch 12 valid F1 91.49 best test F1 87.98\n",
      "NEW BEST: epoch 13 valid F1 92.2 best test F1 89.14\n",
      "NEW BEST: epoch 14 valid F1 92.33 best test F1 88.25\n",
      "NEW BEST: epoch 15 valid F1 93.56 best test F1 90.37\n",
      "NEW BEST: epoch 16 valid F1 94.09 best test F1 90.52\n",
      "NEW BEST: epoch 17 valid F1 94.48 best test F1 90.42\n",
      "\n",
      "\n",
      "BEST RESULT: epoch 17 valid F1 94.48 best test F1 90.42 with the model ../result\n",
      "Iteration BEST test score:  90.42\n",
      "Number of hidden units 1: 100, Number of hidden units 2: 100, Context window size: 15, Word embedding size: 60\n",
      "verbose: True\n",
      "nhidden2: 100\n",
      "win: 15\n",
      "nhidden1: 100\n",
      "savemodel: False\n",
      "fold: 3\n",
      "seed: 345\n",
      "emb_dimension: 60\n",
      "nepochs: 20\n",
      "decay: True\n",
      "lr: 0.0970806646813\n",
      "folder: ../result\n",
      "... loading the dataset\n",
      "... building the model\n",
      "... training\n",
      "NEW BEST: epoch 0 valid F1 55.78 best test F1 52.97\n",
      "NEW BEST: epoch 1 valid F1 64.97 best test F1 61.81\n",
      "NEW BEST: epoch 2 valid F1 75.64 best test F1 72.63\n",
      "NEW BEST: epoch 3 valid F1 78.12 best test F1 73.6\n",
      "NEW BEST: epoch 4 valid F1 82.27 best test F1 78.69\n",
      "NEW BEST: epoch 5 valid F1 84.39 best test F1 81.44\n",
      "NEW BEST: epoch 6 valid F1 86.62 best test F1 82.91\n",
      "NEW BEST: epoch 7 valid F1 87.94 best test F1 85.04\n",
      "NEW BEST: epoch 8 valid F1 89.3 best test F1 87.01\n",
      "NEW BEST: epoch 9 valid F1 89.55 best test F1 87.11\n",
      "NEW BEST: epoch 10 valid F1 90.49 best test F1 87.66\n",
      "NEW BEST: epoch 11 valid F1 91.67 best test F1 88.6\n",
      "NEW BEST: epoch 12 valid F1 92.66 best test F1 89.74\n",
      "NEW BEST: epoch 13 valid F1 92.89 best test F1 89.74\n",
      "\n",
      "NEW BEST: epoch 15 valid F1 93.68 best test F1 90.14\n",
      "\n",
      "NEW BEST: epoch 17 valid F1 94.27 best test F1 90.91\n",
      "NEW BEST: epoch 18 valid F1 94.51 best test F1 91.13\n",
      "NEW BEST: epoch 19 valid F1 94.77 best test F1 90.9\n",
      "BEST RESULT: epoch 19 valid F1 94.77 best test F1 90.9 with the model ../result\n",
      "Iteration BEST test score:  90.9\n",
      "Number of hidden units 1: 100, Number of hidden units 2: 200, Context window size: 7, Word embedding size: 50\n",
      "verbose: True\n",
      "nhidden2: 200\n",
      "win: 7\n",
      "nhidden1: 100\n",
      "savemodel: False\n",
      "fold: 3\n",
      "seed: 345\n",
      "emb_dimension: 50\n",
      "nepochs: 20\n",
      "decay: True\n",
      "lr: 0.0970806646813\n",
      "folder: ../result\n",
      "... loading the dataset\n",
      "... building the model\n",
      "... training\n",
      "NEW BEST: epoch 0 valid F1 55.92 best test F1 52.12\n",
      "NEW BEST: epoch 1 valid F1 67.66 best test F1 64.59\n",
      "NEW BEST: epoch 2 valid F1 73.58 best test F1 70.97\n",
      "NEW BEST: epoch 3 valid F1 80.83 best test F1 76.5\n",
      "NEW BEST: epoch 4 valid F1 84.59 best test F1 82.34\n",
      "NEW BEST: epoch 5 valid F1 86.43 best test F1 83.04\n",
      "NEW BEST: epoch 6 valid F1 87.73 best test F1 84.87\n",
      "NEW BEST: epoch 7 valid F1 89.88 best test F1 86.9\n",
      "NEW BEST: epoch 8 valid F1 91.24 best test F1 88.25\n",
      "NEW BEST: epoch 9 valid F1 91.44 best test F1 88.28\n",
      "NEW BEST: epoch 10 valid F1 92.76 best test F1 89.61\n",
      "NEW BEST: epoch 11 valid F1 93.33 best test F1 89.81\n",
      "NEW BEST: epoch 12 valid F1 93.46 best test F1 90.17\n",
      "NEW BEST: epoch 13 valid F1 94.07 best test F1 91.16\n",
      "\n",
      "NEW BEST: epoch 15 valid F1 94.46 best test F1 91.38\n",
      "\n",
      "NEW BEST: epoch 17 valid F1 94.95 best test F1 91.88\n",
      "NEW BEST: epoch 18 valid F1 95.66 best test F1 91.92\n",
      "\n",
      "BEST RESULT: epoch 18 valid F1 95.66 best test F1 91.92 with the model ../result\n",
      "Iteration BEST test score:  91.92\n",
      "Number of hidden units 1: 100, Number of hidden units 2: 200, Context window size: 7, Word embedding size: 60\n",
      "verbose: True\n",
      "nhidden2: 200\n",
      "win: 7\n",
      "nhidden1: 100\n",
      "savemodel: False\n",
      "fold: 3\n",
      "seed: 345\n",
      "emb_dimension: 60\n",
      "nepochs: 20\n",
      "decay: True\n",
      "lr: 0.0970806646813\n",
      "folder: ../result\n",
      "... loading the dataset\n",
      "... building the model\n",
      "... training\n",
      "NEW BEST: epoch 0 valid F1 59.89 best test F1 56.07\n",
      "NEW BEST: epoch 1 valid F1 69.78 best test F1 65.91\n",
      "NEW BEST: epoch 2 valid F1 76.06 best test F1 73.49\n",
      "NEW BEST: epoch 3 valid F1 81.48 best test F1 79.03\n",
      "NEW BEST: epoch 4 valid F1 84.7 best test F1 82.04\n",
      "NEW BEST: epoch 5 valid F1 86.82 best test F1 83.97\n",
      "NEW BEST: epoch 6 valid F1 88.06 best test F1 84.58\n",
      "NEW BEST: epoch 7 valid F1 89.67 best test F1 87.88\n",
      "NEW BEST: epoch 8 valid F1 90.33 best test F1 87.91\n",
      "NEW BEST: epoch 9 valid F1 91.12 best test F1 88.75\n",
      "NEW BEST: epoch 10 valid F1 92.5 best test F1 88.91\n",
      "NEW BEST: epoch 11 valid F1 92.62 best test F1 90.09\n",
      "NEW BEST: epoch 12 valid F1 93.08 best test F1 90.47\n",
      "NEW BEST: epoch 13 valid F1 93.77 best test F1 90.75\n",
      "\n",
      "\n",
      "NEW BEST: epoch 16 valid F1 94.04 best test F1 91.21\n",
      "NEW BEST: epoch 17 valid F1 94.42 best test F1 91.84\n",
      "NEW BEST: epoch 18 valid F1 94.78 best test F1 91.9\n",
      "\n",
      "BEST RESULT: epoch 18 valid F1 94.78 best test F1 91.9 with the model ../result\n",
      "Iteration BEST test score:  91.9\n",
      "Number of hidden units 1: 100, Number of hidden units 2: 200, Context window size: 15, Word embedding size: 50\n",
      "verbose: True\n",
      "nhidden2: 200\n",
      "win: 15\n",
      "nhidden1: 100\n",
      "savemodel: False\n",
      "fold: 3\n",
      "seed: 345\n",
      "emb_dimension: 50\n",
      "nepochs: 20\n",
      "decay: True\n",
      "lr: 0.0970806646813\n",
      "folder: ../result\n",
      "... loading the dataset\n",
      "... building the model\n",
      "... training\n",
      "NEW BEST: epoch 0 valid F1 57.7 best test F1 52.23\n",
      "NEW BEST: epoch 1 valid F1 66.84 best test F1 63.85\n",
      "NEW BEST: epoch 2 valid F1 75.62 best test F1 72.38\n",
      "NEW BEST: epoch 3 valid F1 80.8 best test F1 77.62\n",
      "NEW BEST: epoch 4 valid F1 83.83 best test F1 79.59\n",
      "NEW BEST: epoch 5 valid F1 85.93 best test F1 82.46\n",
      "NEW BEST: epoch 6 valid F1 87.19 best test F1 84.25\n",
      "NEW BEST: epoch 7 valid F1 89.36 best test F1 87.95\n",
      "NEW BEST: epoch 8 valid F1 89.84 best test F1 87.76\n",
      "NEW BEST: epoch 9 valid F1 91.17 best test F1 88.38\n",
      "NEW BEST: epoch 10 valid F1 91.9 best test F1 88.46\n",
      "NEW BEST: epoch 11 valid F1 93.12 best test F1 89.99\n",
      "\n",
      "NEW BEST: epoch 13 valid F1 93.69 best test F1 90.96\n",
      "NEW BEST: epoch 14 valid F1 93.94 best test F1 90.42\n",
      "NEW BEST: epoch 15 valid F1 94.82 best test F1 91.4\n",
      "\n",
      "\n",
      "NEW BEST: epoch 18 valid F1 94.92 best test F1 91.79\n",
      "NEW BEST: epoch 19 valid F1 95.25 best test F1 91.81\n",
      "BEST RESULT: epoch 19 valid F1 95.25 best test F1 91.81 with the model ../result\n",
      "Iteration BEST test score:  91.81\n",
      "Number of hidden units 1: 100, Number of hidden units 2: 200, Context window size: 15, Word embedding size: 60\n",
      "verbose: True\n",
      "nhidden2: 200\n",
      "win: 15\n",
      "nhidden1: 100\n",
      "savemodel: False\n",
      "fold: 3\n",
      "seed: 345\n",
      "emb_dimension: 60\n",
      "nepochs: 20\n",
      "decay: True\n",
      "lr: 0.0970806646813\n",
      "folder: ../result\n",
      "... loading the dataset\n",
      "... building the model\n",
      "... training\n",
      "NEW BEST: epoch 0 valid F1 58.75 best test F1 54.58\n",
      "NEW BEST: epoch 1 valid F1 69.96 best test F1 65.98\n",
      "NEW BEST: epoch 2 valid F1 75.62 best test F1 72.95\n",
      "NEW BEST: epoch 3 valid F1 81.06 best test F1 78.74\n",
      "NEW BEST: epoch 4 valid F1 83.65 best test F1 80.06\n",
      "NEW BEST: epoch 5 valid F1 86.49 best test F1 83.21\n",
      "NEW BEST: epoch 6 valid F1 87.99 best test F1 84.28\n",
      "NEW BEST: epoch 7 valid F1 89.56 best test F1 87.29\n",
      "NEW BEST: epoch 8 valid F1 90.78 best test F1 88.24\n",
      "\n",
      "NEW BEST: epoch 10 valid F1 92.6 best test F1 89.4\n",
      "\n",
      "NEW BEST: epoch 12 valid F1 93.27 best test F1 90.7\n",
      "NEW BEST: epoch 13 valid F1 93.9 best test F1 91.12\n",
      "\n",
      "\n",
      "NEW BEST: epoch 16 valid F1 94.46 best test F1 91.02\n",
      "NEW BEST: epoch 17 valid F1 94.85 best test F1 92.05\n",
      "NEW BEST: epoch 18 valid F1 95.14 best test F1 91.63\n",
      "\n",
      "BEST RESULT: epoch 18 valid F1 95.14 best test F1 91.63 with the model ../result\n",
      "Iteration BEST test score:  91.63\n",
      "Number of hidden units 1: 200, Number of hidden units 2: 100, Context window size: 7, Word embedding size: 50\n",
      "verbose: True\n",
      "nhidden2: 100\n",
      "win: 7\n",
      "nhidden1: 200\n",
      "savemodel: False\n",
      "fold: 3\n",
      "seed: 345\n",
      "emb_dimension: 50\n",
      "nepochs: 20\n",
      "decay: True\n",
      "lr: 0.0970806646813\n",
      "folder: ../result\n",
      "... loading the dataset\n",
      "... building the model\n",
      "... training\n",
      "NEW BEST: epoch 0 valid F1 57.73 best test F1 52.87\n",
      "NEW BEST: epoch 1 valid F1 68.73 best test F1 64.24\n",
      "NEW BEST: epoch 2 valid F1 76.51 best test F1 73.5\n",
      "NEW BEST: epoch 3 valid F1 81.33 best test F1 78.11\n",
      "NEW BEST: epoch 4 valid F1 84.15 best test F1 80.28\n",
      "NEW BEST: epoch 5 valid F1 86.22 best test F1 82.31\n",
      "NEW BEST: epoch 6 valid F1 87.69 best test F1 83.75\n",
      "NEW BEST: epoch 7 valid F1 89.28 best test F1 85.57\n",
      "NEW BEST: epoch 8 valid F1 90.23 best test F1 85.94\n",
      "NEW BEST: epoch 9 valid F1 90.29 best test F1 86.81\n",
      "NEW BEST: epoch 10 valid F1 91.14 best test F1 86.65\n",
      "NEW BEST: epoch 11 valid F1 91.93 best test F1 88.71\n",
      "NEW BEST: epoch 12 valid F1 92.82 best test F1 89.32\n",
      "NEW BEST: epoch 13 valid F1 93.51 best test F1 90.47\n",
      "\n",
      "\n",
      "\n",
      "NEW BEST: epoch 17 valid F1 94.12 best test F1 91.23\n",
      "NEW BEST: epoch 18 valid F1 94.44 best test F1 92.01\n",
      "NEW BEST: epoch 19 valid F1 94.51 best test F1 91.63\n",
      "BEST RESULT: epoch 19 valid F1 94.51 best test F1 91.63 with the model ../result\n",
      "Iteration BEST test score:  91.63\n",
      "Number of hidden units 1: 200, Number of hidden units 2: 100, Context window size: 7, Word embedding size: 60\n",
      "verbose: True\n",
      "nhidden2: 100\n",
      "win: 7\n",
      "nhidden1: 200\n",
      "savemodel: False\n",
      "fold: 3\n",
      "seed: 345\n",
      "emb_dimension: 60\n",
      "nepochs: 20\n",
      "decay: True\n",
      "lr: 0.0970806646813\n",
      "folder: ../result\n",
      "... loading the dataset\n",
      "... building the model\n",
      "... training\n",
      "NEW BEST: epoch 0 valid F1 58.8 best test F1 54.09\n",
      "NEW BEST: epoch 1 valid F1 67.93 best test F1 64.49\n",
      "NEW BEST: epoch 2 valid F1 76.41 best test F1 73.2\n",
      "NEW BEST: epoch 3 valid F1 80.98 best test F1 76.63\n",
      "NEW BEST: epoch 4 valid F1 84.38 best test F1 80.88\n",
      "NEW BEST: epoch 5 valid F1 86.18 best test F1 83.24\n",
      "NEW BEST: epoch 6 valid F1 87.9 best test F1 83.9\n",
      "NEW BEST: epoch 7 valid F1 89.77 best test F1 86.15\n",
      "NEW BEST: epoch 8 valid F1 90.87 best test F1 87.52\n",
      "NEW BEST: epoch 9 valid F1 90.91 best test F1 88.55\n",
      "NEW BEST: epoch 10 valid F1 91.75 best test F1 88.54\n",
      "NEW BEST: epoch 11 valid F1 92.68 best test F1 90.49\n",
      "NEW BEST: epoch 12 valid F1 93.11 best test F1 90.04\n",
      "NEW BEST: epoch 13 valid F1 93.99 best test F1 90.56\n",
      "\n",
      "NEW BEST: epoch 15 valid F1 94.24 best test F1 91.54\n",
      "NEW BEST: epoch 16 valid F1 94.29 best test F1 91.41\n",
      "NEW BEST: epoch 17 valid F1 94.66 best test F1 92.17\n",
      "NEW BEST: epoch 18 valid F1 95.12 best test F1 92.54\n",
      "\n",
      "BEST RESULT: epoch 18 valid F1 95.12 best test F1 92.54 with the model ../result\n",
      "Iteration BEST test score:  92.54\n",
      "Number of hidden units 1: 200, Number of hidden units 2: 100, Context window size: 15, Word embedding size: 50\n",
      "verbose: True\n",
      "nhidden2: 100\n",
      "win: 15\n",
      "nhidden1: 200\n",
      "savemodel: False\n",
      "fold: 3\n",
      "seed: 345\n",
      "emb_dimension: 50\n",
      "nepochs: 20\n",
      "decay: True\n",
      "lr: 0.0970806646813\n",
      "folder: ../result\n",
      "... loading the dataset\n",
      "... building the model\n",
      "... training\n",
      "NEW BEST: epoch 0 valid F1 59.34 best test F1 55.03\n",
      "NEW BEST: epoch 1 valid F1 68.88 best test F1 64.83\n",
      "NEW BEST: epoch 2 valid F1 76.21 best test F1 73.71\n",
      "NEW BEST: epoch 3 valid F1 80.89 best test F1 77.18\n",
      "NEW BEST: epoch 4 valid F1 84.46 best test F1 80.47\n",
      "NEW BEST: epoch 5 valid F1 86.15 best test F1 83.07\n",
      "NEW BEST: epoch 6 valid F1 88.27 best test F1 84.07\n",
      "NEW BEST: epoch 7 valid F1 89.8 best test F1 86.54\n",
      "NEW BEST: epoch 8 valid F1 90.49 best test F1 87.34\n",
      "NEW BEST: epoch 9 valid F1 90.94 best test F1 87.84\n",
      "NEW BEST: epoch 10 valid F1 91.98 best test F1 88.48\n",
      "NEW BEST: epoch 11 valid F1 92.41 best test F1 89.15\n",
      "NEW BEST: epoch 12 valid F1 93.32 best test F1 89.15\n",
      "NEW BEST: epoch 13 valid F1 94.02 best test F1 90.19\n",
      "\n",
      "NEW BEST: epoch 15 valid F1 94.51 best test F1 90.49\n",
      "\n",
      "NEW BEST: epoch 17 valid F1 94.94 best test F1 91.51\n",
      "NEW BEST: epoch 18 valid F1 95.12 best test F1 91.15\n",
      "NEW BEST: epoch 19 valid F1 95.31 best test F1 91.4\n",
      "BEST RESULT: epoch 19 valid F1 95.31 best test F1 91.4 with the model ../result\n",
      "Iteration BEST test score:  91.4\n",
      "Number of hidden units 1: 200, Number of hidden units 2: 100, Context window size: 15, Word embedding size: 60\n",
      "verbose: True\n",
      "nhidden2: 100\n",
      "win: 15\n",
      "nhidden1: 200\n",
      "savemodel: False\n",
      "fold: 3\n",
      "seed: 345\n",
      "emb_dimension: 60\n",
      "nepochs: 20\n",
      "decay: True\n",
      "lr: 0.0970806646813\n",
      "folder: ../result\n",
      "... loading the dataset\n",
      "... building the model\n",
      "... training\n",
      "NEW BEST: epoch 0 valid F1 57.96 best test F1 53.34\n",
      "NEW BEST: epoch 1 valid F1 68.64 best test F1 65.67\n",
      "NEW BEST: epoch 2 valid F1 77.3 best test F1 74.69\n",
      "NEW BEST: epoch 3 valid F1 81.68 best test F1 77.88\n",
      "NEW BEST: epoch 4 valid F1 84.87 best test F1 82.02\n",
      "NEW BEST: epoch 5 valid F1 85.95 best test F1 82.9\n",
      "NEW BEST: epoch 6 valid F1 87.96 best test F1 84.16\n",
      "NEW BEST: epoch 7 valid F1 89.52 best test F1 86.27\n",
      "NEW BEST: epoch 8 valid F1 90.86 best test F1 87.25\n",
      "NEW BEST: epoch 9 valid F1 91.17 best test F1 88.62\n",
      "NEW BEST: epoch 10 valid F1 92.19 best test F1 89.08\n",
      "NEW BEST: epoch 11 valid F1 92.89 best test F1 90.12\n",
      "NEW BEST: epoch 12 valid F1 93.34 best test F1 90.11\n",
      "NEW BEST: epoch 13 valid F1 93.85 best test F1 90.74\n",
      "\n",
      "NEW BEST: epoch 15 valid F1 93.91 best test F1 90.61\n",
      "NEW BEST: epoch 16 valid F1 94.28 best test F1 90.5\n",
      "NEW BEST: epoch 17 valid F1 94.77 best test F1 91.93\n",
      "NEW BEST: epoch 18 valid F1 95.32 best test F1 91.59\n",
      "\n",
      "BEST RESULT: epoch 18 valid F1 95.32 best test F1 91.59 with the model ../result\n",
      "Iteration BEST test score:  91.59\n",
      "Number of hidden units 1: 200, Number of hidden units 2: 200, Context window size: 7, Word embedding size: 50\n",
      "verbose: True\n",
      "nhidden2: 200\n",
      "win: 7\n",
      "nhidden1: 200\n",
      "savemodel: False\n",
      "fold: 3\n",
      "seed: 345\n",
      "emb_dimension: 50\n",
      "nepochs: 20\n",
      "decay: True\n",
      "lr: 0.0970806646813\n",
      "folder: ../result\n",
      "... loading the dataset\n",
      "... building the model\n",
      "... training\n",
      "NEW BEST: epoch 0 valid F1 61.73 best test F1 56.21\n",
      "NEW BEST: epoch 1 valid F1 72.74 best test F1 68.14\n",
      "NEW BEST: epoch 2 valid F1 78.94 best test F1 76.62\n",
      "NEW BEST: epoch 3 valid F1 84.49 best test F1 81.38\n",
      "NEW BEST: epoch 4 valid F1 86.8 best test F1 82.52\n",
      "NEW BEST: epoch 5 valid F1 88.4 best test F1 85.05\n",
      "NEW BEST: epoch 6 valid F1 88.81 best test F1 86.86\n",
      "NEW BEST: epoch 7 valid F1 90.91 best test F1 88.52\n",
      "NEW BEST: epoch 8 valid F1 91.58 best test F1 89.21\n",
      "\n",
      "NEW BEST: epoch 10 valid F1 93.33 best test F1 90.0\n",
      "NEW BEST: epoch 11 valid F1 93.64 best test F1 90.97\n",
      "\n",
      "NEW BEST: epoch 13 valid F1 93.94 best test F1 91.95\n",
      "\n",
      "NEW BEST: epoch 15 valid F1 94.69 best test F1 92.0\n",
      "\n",
      "NEW BEST: epoch 17 valid F1 94.71 best test F1 92.46\n",
      "NEW BEST: epoch 18 valid F1 95.07 best test F1 92.05\n",
      "NEW BEST: epoch 19 valid F1 95.18 best test F1 92.23\n",
      "BEST RESULT: epoch 19 valid F1 95.18 best test F1 92.23 with the model ../result\n",
      "Iteration BEST test score:  92.23\n",
      "Number of hidden units 1: 200, Number of hidden units 2: 200, Context window size: 7, Word embedding size: 60\n",
      "verbose: True\n",
      "nhidden2: 200\n",
      "win: 7\n",
      "nhidden1: 200\n",
      "savemodel: False\n",
      "fold: 3\n",
      "seed: 345\n",
      "emb_dimension: 60\n",
      "nepochs: 20\n",
      "decay: True\n",
      "lr: 0.0970806646813\n",
      "folder: ../result\n",
      "... loading the dataset\n",
      "... building the model\n",
      "... training\n",
      "NEW BEST: epoch 0 valid F1 61.08 best test F1 55.78\n",
      "NEW BEST: epoch 1 valid F1 72.32 best test F1 69.26\n",
      "NEW BEST: epoch 2 valid F1 78.92 best test F1 75.9\n",
      "NEW BEST: epoch 3 valid F1 83.64 best test F1 81.18\n",
      "NEW BEST: epoch 4 valid F1 86.87 best test F1 83.75\n",
      "NEW BEST: epoch 5 valid F1 88.44 best test F1 84.86\n",
      "NEW BEST: epoch 6 valid F1 89.51 best test F1 86.99\n",
      "NEW BEST: epoch 7 valid F1 91.42 best test F1 89.17\n",
      "NEW BEST: epoch 8 valid F1 92.29 best test F1 89.29\n",
      "NEW BEST: epoch 9 valid F1 93.07 best test F1 89.96\n",
      "NEW BEST: epoch 10 valid F1 93.71 best test F1 90.75\n",
      "NEW BEST: epoch 11 valid F1 93.91 best test F1 90.74\n",
      "NEW BEST: epoch 12 valid F1 94.13 best test F1 91.37\n",
      "NEW BEST: epoch 13 valid F1 94.68 best test F1 91.9\n",
      "\n",
      "\n",
      "\n",
      "NEW BEST: epoch 17 valid F1 95.22 best test F1 92.38\n",
      "NEW BEST: epoch 18 valid F1 95.45 best test F1 92.53\n",
      "NEW BEST: epoch 19 valid F1 95.51 best test F1 92.25\n",
      "BEST RESULT: epoch 19 valid F1 95.51 best test F1 92.25 with the model ../result\n",
      "Iteration BEST test score:  92.25\n",
      "Number of hidden units 1: 200, Number of hidden units 2: 200, Context window size: 15, Word embedding size: 50\n",
      "verbose: True\n",
      "nhidden2: 200\n",
      "win: 15\n",
      "nhidden1: 200\n",
      "savemodel: False\n",
      "fold: 3\n",
      "seed: 345\n",
      "emb_dimension: 50\n",
      "nepochs: 20\n",
      "decay: True\n",
      "lr: 0.0970806646813\n",
      "folder: ../result\n",
      "... loading the dataset\n",
      "... building the model\n",
      "... training\n",
      "NEW BEST: epoch 0 valid F1 61.55 best test F1 56.32\n",
      "NEW BEST: epoch 1 valid F1 73.13 best test F1 68.87\n",
      "NEW BEST: epoch 2 valid F1 79.51 best test F1 76.71\n",
      "NEW BEST: epoch 3 valid F1 84.88 best test F1 80.22\n",
      "NEW BEST: epoch 4 valid F1 86.6 best test F1 82.36\n",
      "NEW BEST: epoch 5 valid F1 88.46 best test F1 84.56\n",
      "NEW BEST: epoch 6 valid F1 89.62 best test F1 85.91\n",
      "NEW BEST: epoch 7 valid F1 91.31 best test F1 88.67\n",
      "NEW BEST: epoch 8 valid F1 91.91 best test F1 88.09\n",
      "NEW BEST: epoch 9 valid F1 92.42 best test F1 89.08\n",
      "NEW BEST: epoch 10 valid F1 93.35 best test F1 89.14\n",
      "NEW BEST: epoch 11 valid F1 93.64 best test F1 89.95\n",
      "NEW BEST: epoch 12 valid F1 94.56 best test F1 90.27\n",
      "\n",
      "\n",
      "NEW BEST: epoch 15 valid F1 95.29 best test F1 91.19\n",
      "\n",
      "\n",
      "NEW BEST: epoch 18 valid F1 95.75 best test F1 91.93\n",
      "\n",
      "BEST RESULT: epoch 18 valid F1 95.75 best test F1 91.93 with the model ../result\n",
      "Iteration BEST test score:  91.93\n",
      "Number of hidden units 1: 200, Number of hidden units 2: 200, Context window size: 15, Word embedding size: 60\n",
      "verbose: True\n",
      "nhidden2: 200\n",
      "win: 15\n",
      "nhidden1: 200\n",
      "savemodel: False\n",
      "fold: 3\n",
      "seed: 345\n",
      "emb_dimension: 60\n",
      "nepochs: 20\n",
      "decay: True\n",
      "lr: 0.0970806646813\n",
      "folder: ../result\n",
      "... loading the dataset\n",
      "... building the model\n",
      "... training\n",
      "NEW BEST: epoch 0 valid F1 60.78 best test F1 55.8\n",
      "NEW BEST: epoch 1 valid F1 73.24 best test F1 68.66\n",
      "NEW BEST: epoch 2 valid F1 79.96 best test F1 76.97\n",
      "NEW BEST: epoch 3 valid F1 84.12 best test F1 80.78\n",
      "NEW BEST: epoch 4 valid F1 86.34 best test F1 83.15\n",
      "NEW BEST: epoch 5 valid F1 88.08 best test F1 84.83\n",
      "NEW BEST: epoch 6 valid F1 90.61 best test F1 87.44\n",
      "NEW BEST: epoch 7 valid F1 90.79 best test F1 87.61\n",
      "NEW BEST: epoch 8 valid F1 92.18 best test F1 89.15\n",
      "NEW BEST: epoch 9 valid F1 92.47 best test F1 89.28\n",
      "NEW BEST: epoch 10 valid F1 93.26 best test F1 89.09\n",
      "NEW BEST: epoch 11 valid F1 94.19 best test F1 91.0\n",
      "\n",
      "\n",
      "NEW BEST: epoch 14 valid F1 94.3 best test F1 90.72\n",
      "NEW BEST: epoch 15 valid F1 94.95 best test F1 91.13\n",
      "\n",
      "\n",
      "\n",
      "\n",
      "\n",
      "BEST RESULT: epoch 15 valid F1 94.95 best test F1 91.13 with the model ../result\n",
      "Iteration BEST test score:  91.13\n",
      "[91.08, 91.12, 90.42, 90.9, 91.92, 91.9, 91.81, 91.63, 91.63, 92.54, 91.4, 91.59, 92.23, 92.25, 91.93, 91.13]"
     ]
    }
   ],
   "source": [
    "# TODO\n",
    "from hw4a import test_rnnslu2\n",
    "import gc\n",
    "question3Output = []\n",
    "gc.collect()\n",
    "for nhidden1 in [100,200]:\n",
    "    for nhidden2 in [100,200]:\n",
    "        for window_size in [7,15]:\n",
    "            for emb_dim in [50,60]:\n",
    "                print \"Number of hidden units 1: %s, Number of hidden units 2: %s, Context window size: %s, Word embedding size: %s\"%(nhidden1,nhidden2,window_size,emb_dim)\n",
    "                tmp = test_rnnslu2(fold=3, lr=0.0970806646812754, verbose=True, decay=True, win=window_size,\n",
    "                                  nhidden1=nhidden1,nhidden2=nhidden2, seed=345, emb_dimension=emb_dim,\n",
    "                                  nepochs=20)\n",
    "                print \"Iteration BEST test score: \",tmp\n",
    "                question3Output.append(tmp)\n",
    "                gc.collect()\n",
    "print question3Output"
   ]
  },
  {
   "cell_type": "markdown",
   "metadata": {},
   "source": [
    "### a.iii Implement RNN with two hidden layers\n",
    "Testing accuracy accross 16 iterations is as follows:\n",
    "\n",
    "```\n",
    "[hidden units 1,hidden units 2, context window, embedding dimension -------- Testing accuracy]\n",
    "  100,         , 100,             7,           50                            91.08\n",
    "  100,         , 100,             7,           60                            91.12\n",
    "  100,         , 100,            15,           50                            90.42\n",
    "  100,         , 100,            15,           60                            90.9\n",
    "  100,         , 200,             7,           50                            91.92\n",
    "  100,         , 200,             7,           60                            91.9\n",
    "  100,         , 200,            15,           50                            91.81\n",
    "  100,         , 200,            15,           60                            91.63\n",
    "  200,         , 100,             7,           50                            91.63\n",
    "  200,         , 100,             7,           60                            92.54\n",
    "  200,         , 100,            15,           50                            91.4\n",
    "  200,         , 100,            15,           60                            91.59\n",
    "  200,         , 200,             7,           50                            92.23\n",
    "  200,         , 200,             7,           60                            92.25\n",
    "  200,         , 200,            15,           50                            91.93\n",
    "  200,         , 200,            15,           60                            91.13\n",
    "```\n",
    "\n",
    "The testing accuracy for RNN with 2 hidden layers is marginally better than the testing accuracy with one hidden layer. Also, we see that the testing accuracy increases as the total number of hidden units across two layers in RNN increase."
   ]
  },
  {
   "cell_type": "markdown",
   "metadata": {},
   "source": [
    "#### Bullet 4: Experiment with word embeddings"
   ]
  },
  {
   "cell_type": "code",
   "execution_count": 6,
   "metadata": {
    "collapsed": false,
    "scrolled": true
   },
   "outputs": [
    {
     "name": "stdout",
     "output_type": "stream",
     "text": [
      "verbose: True\n",
      "normal: True\n",
      "win: 7\n",
      "savemodel: False\n",
      "fold: 3\n",
      "seed: 345\n",
      "emb_dimension: 50\n",
      "nepochs: 5\n",
      "nhidden: 100\n",
      "decay: True\n",
      "lr: 0.0970806646813\n",
      "folder: ../result\n",
      "... loading the dataset\n",
      "... building the model\n",
      "... training\n",
      "NEW BEST: epoch 0 valid F1 63.39 best test F1 60.51\n",
      "NEW BEST: epoch 1 valid F1 75.46 best test F1 72.37\n",
      "NEW BEST: epoch 2 valid F1 80.34 best test F1 77.06\n",
      "NEW BEST: epoch 3 valid F1 83.89 best test F1 80.94\n",
      "NEW BEST: epoch 4 valid F1 85.89 best test F1 82.83\n",
      "BEST RESULT: epoch 4 valid F1 85.89 best test F1 82.83 with the model ../result\n"
     ]
    },
    {
     "data": {
      "text/plain": [
       "460695"
      ]
     },
     "execution_count": 6,
     "metadata": {},
     "output_type": "execute_result"
    }
   ],
   "source": [
    "# TODO\n",
    "from hw4a import test_rnnslu\n",
    "import gc\n",
    "gc.collect()\n",
    "test_accuracy, emb, idx2word = test_rnnslu(fold=3, lr=0.0970806646812754, verbose=True, decay=True, win=7,\n",
    "            nhidden=100, seed=345, emb_dimension=50, nepochs=5)\n",
    "gc.collect()"
   ]
  },
  {
   "cell_type": "code",
   "execution_count": 7,
   "metadata": {
    "collapsed": false,
    "scrolled": false
   },
   "outputs": [
    {
     "name": "stdout",
     "output_type": "stream",
     "text": [
      "357\n",
      "0.0117974328026\n",
      "0.0922372575811\n",
      "0.0230399178163\n",
      "0.0857083594518\n",
      "0.0746536754777\n"
     ]
    }
   ],
   "source": [
    "from scipy import spatial\n",
    "import gc\n",
    "gc.collect()\n",
    "embeddings = emb.get_value()\n",
    "word_emb = {}\n",
    "for idx, val in idx2word.iteritems():\n",
    "    if \"to\" == val:\n",
    "        word_emb[val] = embeddings[idx]\n",
    "    if \"UNK\" not in val and \"DIGIT\" not in val and \"'\" not in val and len(val)>4:\n",
    "        word_emb[val] = embeddings[idx]\n",
    "print len(word_emb)\n",
    "diff_dict = {}\n",
    "for key1 in word_emb:\n",
    "    for key2 in word_emb:\n",
    "        rkey = key2 + '-' + key1\n",
    "        if key1 is not key2 and rkey not in diff_dict:\n",
    "            key = key1 + '-' + key2\n",
    "            diff_dict[key] = word_emb[key1] - word_emb[key2]\n",
    "print spatial.distance.cosine(diff_dict['united-reservation'], diff_dict['american-reservation'])\n",
    "print spatial.distance.cosine(diff_dict['seattle-pittsburgh'], diff_dict['seattle-atlanta'])\n",
    "print spatial.distance.cosine(diff_dict['oakland-delta'], diff_dict['oakland-continental'])\n",
    "print spatial.distance.cosine(diff_dict['dallas-cities'], diff_dict['denver-cities'])\n",
    "print spatial.distance.cosine(diff_dict['petersburg-atlanta'], diff_dict['petersburg-boston'])"
   ]
  },
  {
   "cell_type": "markdown",
   "metadata": {},
   "source": [
    "### a.iv Experiment with word embeddings\n",
    "\n",
    "After training the RNN model, we queried the embeddings and we zeroed down on the below mentioned relationships between word pairs:\n",
    "```\n",
    "F(united)-F(reservation) is similar to F(american)-F(reservation)\n",
    "```\n",
    "This shows that people were searching for reservations in two airlines - united and american\n",
    "\n",
    "```\n",
    "F(seattle)-F(pittsburgh) is similar to F(seattle)-F(atlanta)\n",
    "```\n",
    "This shows that people search for routes between seattle and pittsburgh as well as seattle and atlanta in the ATIS dataset sentences\n",
    "\n",
    "```\n",
    "F(oakland)-F(delta) is similar to F(oakland)-F(continental)\n",
    "```\n",
    "This shows that people were looking up delta and continental flights information to oakland\n",
    "\n",
    "```\n",
    "F(dallas)-F(cities) is similar to F(denver)-F(cities)\n",
    "```\n",
    "This shows that the model learnt that dallas and denver are cities\n",
    "\n",
    "```\n",
    "F(petersburg)-F(atlanta) is similar to F(petersburg)-F(boston)\n",
    "```\n",
    "This shows that people were looking for flights between petersburg and atlanta and petersburg and boston"
   ]
  },
  {
   "cell_type": "markdown",
   "metadata": {},
   "source": [
    "### Problem b: Learning Parity Function\n",
    "#### Bullet 1: Shallow MLP"
   ]
  },
  {
   "cell_type": "code",
   "execution_count": 1,
   "metadata": {
    "collapsed": false,
    "scrolled": true
   },
   "outputs": [
    {
     "name": "stdout",
     "output_type": "stream",
     "text": [
      "Learning rate: 1.0, Hidden Units: 8\n",
      "... building the model\n",
      "... training\n",
      "Optimization complete."
     ]
    },
    {
     "name": "stderr",
     "output_type": "stream",
     "text": [
      "Using gpu device 0: GRID K520\n",
      "The training process for function test_mlp_parity ran for 0.04m"
     ]
    },
    {
     "name": "stdout",
     "output_type": "stream",
     "text": [
      "\n",
      "Best validation score of 1.458333 % obtained at iteration 2480, with test performance 1.041667 %\n",
      "98.9583333333\n",
      "Learning rate: 1.0, Hidden Units: 16\n",
      "... building the model\n",
      "... training\n",
      "Optimization complete."
     ]
    },
    {
     "name": "stderr",
     "output_type": "stream",
     "text": [
      "\n",
      "The training process for function test_mlp_parity ran for 0.04m"
     ]
    },
    {
     "name": "stdout",
     "output_type": "stream",
     "text": [
      "\n",
      "Best validation score of 4.166667 % obtained at iteration 3069, with test performance 4.166667 %\n",
      "95.8333333333\n",
      "Learning rate: 1.0, Hidden Units: 32\n",
      "... building the model\n",
      "... training\n",
      "Optimization complete."
     ]
    },
    {
     "name": "stderr",
     "output_type": "stream",
     "text": [
      "\n",
      "The training process for function test_mlp_parity ran for 0.04m"
     ]
    },
    {
     "name": "stdout",
     "output_type": "stream",
     "text": [
      "\n",
      "Best validation score of 53.125000 % obtained at iteration 217, with test performance 50.000000 %\n",
      "50.0\n",
      "Learning rate: 1.0, Hidden Units: 64\n",
      "... building the model\n",
      "... training\n",
      "Optimization complete."
     ]
    },
    {
     "name": "stderr",
     "output_type": "stream",
     "text": [
      "\n",
      "The training process for function test_mlp_parity ran for 0.05m"
     ]
    },
    {
     "name": "stdout",
     "output_type": "stream",
     "text": [
      "\n",
      "Best validation score of 49.583333 % obtained at iteration 62, with test performance 45.833333 %\n",
      "54.1666666667\n",
      "Learning rate: 1.0, Hidden Units: 128\n",
      "... building the model\n",
      "... training\n",
      "Optimization complete."
     ]
    },
    {
     "name": "stderr",
     "output_type": "stream",
     "text": [
      "\n",
      "The training process for function test_mlp_parity ran for 0.04m"
     ]
    },
    {
     "name": "stdout",
     "output_type": "stream",
     "text": [
      "\n",
      "Best validation score of 45.208333 % obtained at iteration 2852, with test performance 47.916667 %\n",
      "52.0833333333\n",
      "Learning rate: 0.9, Hidden Units: 8\n",
      "... building the model\n",
      "... training\n",
      "Optimization complete."
     ]
    },
    {
     "name": "stderr",
     "output_type": "stream",
     "text": [
      "\n",
      "The training process for function test_mlp_parity ran for 0.04m"
     ]
    },
    {
     "name": "stdout",
     "output_type": "stream",
     "text": [
      "\n",
      "Best validation score of 33.541667 % obtained at iteration 3007, with test performance 29.166667 %\n",
      "70.8333333333\n",
      "Learning rate: 0.9, Hidden Units: 16\n",
      "... building the model\n",
      "... training\n",
      "Optimization complete."
     ]
    },
    {
     "name": "stderr",
     "output_type": "stream",
     "text": [
      "\n",
      "The training process for function test_mlp_parity ran for 0.04m"
     ]
    },
    {
     "name": "stdout",
     "output_type": "stream",
     "text": [
      "\n",
      "Best validation score of 50.416667 % obtained at iteration 3069, with test performance 52.083333 %\n",
      "47.9166666667\n",
      "Learning rate: 0.9, Hidden Units: 32\n",
      "... building the model\n",
      "... training\n",
      "Optimization complete."
     ]
    },
    {
     "name": "stderr",
     "output_type": "stream",
     "text": [
      "\n",
      "The training process for function test_mlp_parity ran for 0.04m"
     ]
    },
    {
     "name": "stdout",
     "output_type": "stream",
     "text": [
      "\n",
      "Best validation score of 49.166667 % obtained at iteration 496, with test performance 46.875000 %\n",
      "53.125\n",
      "Learning rate: 0.9, Hidden Units: 64\n",
      "... building the model\n",
      "... training\n",
      "Optimization complete."
     ]
    },
    {
     "name": "stderr",
     "output_type": "stream",
     "text": [
      "\n",
      "The training process for function test_mlp_parity ran for 0.04m"
     ]
    },
    {
     "name": "stdout",
     "output_type": "stream",
     "text": [
      "\n",
      "Best validation score of 48.958333 % obtained at iteration 31, with test performance 47.916667 %\n",
      "52.0833333333\n",
      "Learning rate: 0.9, Hidden Units: 128\n",
      "... building the model\n",
      "... training\n",
      "Optimization complete."
     ]
    },
    {
     "name": "stderr",
     "output_type": "stream",
     "text": [
      "\n",
      "The training process for function test_mlp_parity ran for 0.04m"
     ]
    },
    {
     "name": "stdout",
     "output_type": "stream",
     "text": [
      "\n",
      "Best validation score of 47.916667 % obtained at iteration 1798, with test performance 43.750000 %\n",
      "56.25\n",
      "Learning rate: 0.8, Hidden Units: 8\n",
      "... building the model\n",
      "... training\n",
      "Optimization complete."
     ]
    },
    {
     "name": "stderr",
     "output_type": "stream",
     "text": [
      "\n",
      "The training process for function test_mlp_parity ran for 0.04m"
     ]
    },
    {
     "name": "stdout",
     "output_type": "stream",
     "text": [
      "\n",
      "Best validation score of 0.208333 % obtained at iteration 2604, with test performance 0.000000 %\n",
      "100.0\n",
      "Optimum configuration: Learning rate: 0.8, Hidden Units: 16\n"
     ]
    },
    {
     "name": "stderr",
     "output_type": "stream",
     "text": [
      "\n"
     ]
    }
   ],
   "source": [
    "# TODO\n",
    "from hw4b import test_mlp_parity\n",
    "import gc\n",
    "gc.collect()\n",
    "optimum_config_found = False\n",
    "for lr in [1.0,0.9,0.8,0.7,0.6,0.5]:\n",
    "    n_hidden = 8\n",
    "    while n_hidden <= 128:\n",
    "        print \"Learning rate: %s, Hidden Units: %s\"%(lr,n_hidden)\n",
    "        test_acc = test_mlp_parity(learning_rate=lr, L1_reg=0.00, L2_reg=0.0000, n_epochs=100,\n",
    "             batch_size=32, n_hidden=n_hidden, n_hiddenLayers=1,\n",
    "             verbose=False,input_bit=8)\n",
    "        n_hidden = n_hidden*2\n",
    "        print test_acc\n",
    "        gc.collect()\n",
    "        if test_acc == 100.:\n",
    "            print \"Optimum configuration: Learning rate: %s, Hidden Units: %s\"%(lr,n_hidden)\n",
    "            optimum_config_found = True\n",
    "            break\n",
    "    if optimum_config_found:\n",
    "        break"
   ]
  },
  {
   "cell_type": "code",
   "execution_count": 9,
   "metadata": {
    "collapsed": false,
    "scrolled": true
   },
   "outputs": [
    {
     "name": "stdout",
     "output_type": "stream",
     "text": [
      "Learning rate: 2.3, Hidden Units: 12\n",
      "... building the model\n",
      "... training\n",
      "Optimization complete.\n",
      "Best validation score of 45.833333 % obtained at iteration 3007, with test performance 54.166667 %\n",
      "45.8333333333\n",
      "Learning rate: 2.3, Hidden Units: 144\n",
      "... building the model\n",
      "... training\n",
      "Optimization complete."
     ]
    },
    {
     "name": "stderr",
     "output_type": "stream",
     "text": [
      "The training process for function test_mlp_parity ran for 0.04m\n",
      "The training process for function test_mlp_parity ran for 0.04m"
     ]
    },
    {
     "name": "stdout",
     "output_type": "stream",
     "text": [
      "\n",
      "Best validation score of 16.041667 % obtained at iteration 2356, with test performance 12.500000 %\n",
      "87.5\n",
      "Learning rate: 2.3, Hidden Units: 1728\n",
      "... building the model\n",
      "... training\n",
      "Optimization complete."
     ]
    },
    {
     "name": "stderr",
     "output_type": "stream",
     "text": [
      "\n",
      "The training process for function test_mlp_parity ran for 0.04m"
     ]
    },
    {
     "name": "stdout",
     "output_type": "stream",
     "text": [
      "\n",
      "Best validation score of 8.333333 % obtained at iteration 1891, with test performance 14.583333 %\n",
      "85.4166666667\n",
      "Learning rate: 2.3, Hidden Units: 20736\n",
      "... building the model\n",
      "... training\n",
      "Optimization complete."
     ]
    },
    {
     "name": "stderr",
     "output_type": "stream",
     "text": [
      "\n",
      "The training process for function test_mlp_parity ran for 0.15m"
     ]
    },
    {
     "name": "stdout",
     "output_type": "stream",
     "text": [
      "\n",
      "Best validation score of 9.375000 % obtained at iteration 1643, with test performance 11.458333 %\n",
      "88.5416666667\n",
      "Learning rate: 2.3, Hidden Units: 248832\n",
      "... building the model\n",
      "... training\n",
      "Optimization complete."
     ]
    },
    {
     "name": "stderr",
     "output_type": "stream",
     "text": [
      "\n",
      "The training process for function test_mlp_parity ran for 1.41m"
     ]
    },
    {
     "name": "stdout",
     "output_type": "stream",
     "text": [
      "\n",
      "Best validation score of 5.208333 % obtained at iteration 1643, with test performance 9.375000 %\n",
      "90.625\n",
      "Learning rate: 2.2, Hidden Units: 12\n",
      "... building the model\n",
      "... training\n",
      "Optimization complete."
     ]
    },
    {
     "name": "stderr",
     "output_type": "stream",
     "text": [
      "\n",
      "The training process for function test_mlp_parity ran for 0.04m"
     ]
    },
    {
     "name": "stdout",
     "output_type": "stream",
     "text": [
      "\n",
      "Best validation score of 43.958333 % obtained at iteration 2790, with test performance 50.000000 %\n",
      "50.0\n",
      "Learning rate: 2.2, Hidden Units: 144\n",
      "... building the model\n",
      "... training\n",
      "Optimization complete."
     ]
    },
    {
     "name": "stderr",
     "output_type": "stream",
     "text": [
      "\n",
      "The training process for function test_mlp_parity ran for 0.04m"
     ]
    },
    {
     "name": "stdout",
     "output_type": "stream",
     "text": [
      "\n",
      "Best validation score of 18.333333 % obtained at iteration 2077, with test performance 25.000000 %\n",
      "75.0\n",
      "Learning rate: 2.2, Hidden Units: 1728\n",
      "... building the model\n",
      "... training\n",
      "Optimization complete."
     ]
    },
    {
     "name": "stderr",
     "output_type": "stream",
     "text": [
      "\n",
      "The training process for function test_mlp_parity ran for 0.04m"
     ]
    },
    {
     "name": "stdout",
     "output_type": "stream",
     "text": [
      "\n",
      "Best validation score of 10.625000 % obtained at iteration 1860, with test performance 7.291667 %\n",
      "92.7083333333\n",
      "Learning rate: 2.2, Hidden Units: 20736\n",
      "... building the model\n",
      "... training\n",
      "Optimization complete."
     ]
    },
    {
     "name": "stderr",
     "output_type": "stream",
     "text": [
      "\n",
      "The training process for function test_mlp_parity ran for 0.15m"
     ]
    },
    {
     "name": "stdout",
     "output_type": "stream",
     "text": [
      "\n",
      "Best validation score of 8.750000 % obtained at iteration 1705, with test performance 3.125000 %\n",
      "96.875\n",
      "Learning rate: 2.2, Hidden Units: 248832\n",
      "... building the model\n",
      "... training\n",
      "Optimization complete."
     ]
    },
    {
     "name": "stderr",
     "output_type": "stream",
     "text": [
      "\n",
      "The training process for function test_mlp_parity ran for 1.41m"
     ]
    },
    {
     "name": "stdout",
     "output_type": "stream",
     "text": [
      "\n",
      "Best validation score of 3.750000 % obtained at iteration 1643, with test performance 3.125000 %\n",
      "96.875\n",
      "Learning rate: 2.1, Hidden Units: 12\n",
      "... building the model\n",
      "... training\n",
      "Optimization complete."
     ]
    },
    {
     "name": "stderr",
     "output_type": "stream",
     "text": [
      "\n",
      "The training process for function test_mlp_parity ran for 0.04m"
     ]
    },
    {
     "name": "stdout",
     "output_type": "stream",
     "text": [
      "\n",
      "Best validation score of 40.416667 % obtained at iteration 2883, with test performance 36.458333 %\n",
      "63.5416666667\n",
      "Learning rate: 2.1, Hidden Units: 144\n",
      "... building the model\n",
      "... training\n",
      "Optimization complete."
     ]
    },
    {
     "name": "stderr",
     "output_type": "stream",
     "text": [
      "\n",
      "The training process for function test_mlp_parity ran for 0.04m"
     ]
    },
    {
     "name": "stdout",
     "output_type": "stream",
     "text": [
      "\n",
      "Best validation score of 15.000000 % obtained at iteration 2449, with test performance 25.000000 %\n",
      "75.0\n",
      "Learning rate: 2.1, Hidden Units: 1728\n",
      "... building the model\n",
      "... training\n",
      "Optimization complete."
     ]
    },
    {
     "name": "stderr",
     "output_type": "stream",
     "text": [
      "\n",
      "The training process for function test_mlp_parity ran for 0.04m"
     ]
    },
    {
     "name": "stdout",
     "output_type": "stream",
     "text": [
      "\n",
      "Best validation score of 7.291667 % obtained at iteration 1984, with test performance 11.458333 %\n",
      "88.5416666667\n",
      "Learning rate: 2.1, Hidden Units: 20736\n",
      "... building the model\n",
      "... training\n",
      "Optimization complete."
     ]
    },
    {
     "name": "stderr",
     "output_type": "stream",
     "text": [
      "\n",
      "The training process for function test_mlp_parity ran for 0.15m"
     ]
    },
    {
     "name": "stdout",
     "output_type": "stream",
     "text": [
      "\n",
      "Best validation score of 6.041667 % obtained at iteration 1643, with test performance 10.416667 %\n",
      "89.5833333333\n",
      "Learning rate: 2.1, Hidden Units: 248832\n",
      "... building the model\n",
      "... training\n",
      "Optimization complete."
     ]
    },
    {
     "name": "stderr",
     "output_type": "stream",
     "text": [
      "\n",
      "The training process for function test_mlp_parity ran for 1.40m"
     ]
    },
    {
     "name": "stdout",
     "output_type": "stream",
     "text": [
      "\n",
      "Best validation score of 3.750000 % obtained at iteration 1612, with test performance 5.208333 %\n",
      "94.7916666667\n",
      "Learning rate: 2.0, Hidden Units: 12\n",
      "... building the model\n",
      "... training\n",
      "Optimization complete."
     ]
    },
    {
     "name": "stderr",
     "output_type": "stream",
     "text": [
      "\n",
      "The training process for function test_mlp_parity ran for 0.04m"
     ]
    },
    {
     "name": "stdout",
     "output_type": "stream",
     "text": [
      "\n",
      "Best validation score of 16.666667 % obtained at iteration 3007, with test performance 18.750000 %\n",
      "81.25\n",
      "Learning rate: 2.0, Hidden Units: 144\n",
      "... building the model\n",
      "... training\n",
      "Optimization complete."
     ]
    },
    {
     "name": "stderr",
     "output_type": "stream",
     "text": [
      "\n",
      "The training process for function test_mlp_parity ran for 0.04m"
     ]
    },
    {
     "name": "stdout",
     "output_type": "stream",
     "text": [
      "\n",
      "Best validation score of 11.041667 % obtained at iteration 3007, with test performance 14.583333 %\n",
      "85.4166666667\n",
      "Learning rate: 2.0, Hidden Units: 1728\n",
      "... building the model\n",
      "... training\n",
      "Optimization complete."
     ]
    },
    {
     "name": "stderr",
     "output_type": "stream",
     "text": [
      "\n",
      "The training process for function test_mlp_parity ran for 0.04m"
     ]
    },
    {
     "name": "stdout",
     "output_type": "stream",
     "text": [
      "\n",
      "Best validation score of 8.750000 % obtained at iteration 1829, with test performance 10.416667 %\n",
      "89.5833333333\n",
      "Learning rate: 2.0, Hidden Units: 20736\n",
      "... building the model\n",
      "... training\n",
      "Optimization complete."
     ]
    },
    {
     "name": "stderr",
     "output_type": "stream",
     "text": [
      "\n",
      "The training process for function test_mlp_parity ran for 0.15m"
     ]
    },
    {
     "name": "stdout",
     "output_type": "stream",
     "text": [
      "\n",
      "Best validation score of 7.291667 % obtained at iteration 1736, with test performance 12.500000 %\n",
      "87.5\n",
      "Learning rate: 2.0, Hidden Units: 248832\n",
      "... building the model\n",
      "... training\n",
      "Optimization complete."
     ]
    },
    {
     "name": "stderr",
     "output_type": "stream",
     "text": [
      "\n",
      "The training process for function test_mlp_parity ran for 1.41m"
     ]
    },
    {
     "name": "stdout",
     "output_type": "stream",
     "text": [
      "\n",
      "Best validation score of 3.541667 % obtained at iteration 1674, with test performance 3.125000 %\n",
      "96.875\n",
      "Learning rate: 1.9, Hidden Units: 12\n",
      "... building the model\n",
      "... training\n",
      "Optimization complete."
     ]
    },
    {
     "name": "stderr",
     "output_type": "stream",
     "text": [
      "\n",
      "The training process for function test_mlp_parity ran for 0.04m"
     ]
    },
    {
     "name": "stdout",
     "output_type": "stream",
     "text": [
      "\n",
      "Best validation score of 26.666667 % obtained at iteration 3069, with test performance 30.208333 %\n",
      "69.7916666667\n",
      "Learning rate: 1.9, Hidden Units: 144\n",
      "... building the model\n",
      "... training\n",
      "Optimization complete."
     ]
    },
    {
     "name": "stderr",
     "output_type": "stream",
     "text": [
      "\n",
      "The training process for function test_mlp_parity ran for 0.04m"
     ]
    },
    {
     "name": "stdout",
     "output_type": "stream",
     "text": [
      "\n",
      "Best validation score of 14.583333 % obtained at iteration 2356, with test performance 17.708333 %\n",
      "82.2916666667\n",
      "Learning rate: 1.9, Hidden Units: 1728\n",
      "... building the model\n",
      "... training\n",
      "Optimization complete."
     ]
    },
    {
     "name": "stderr",
     "output_type": "stream",
     "text": [
      "\n",
      "The training process for function test_mlp_parity ran for 0.04m"
     ]
    },
    {
     "name": "stdout",
     "output_type": "stream",
     "text": [
      "\n",
      "Best validation score of 8.541667 % obtained at iteration 1984, with test performance 9.375000 %\n",
      "90.625\n",
      "Learning rate: 1.9, Hidden Units: 20736\n",
      "... building the model\n",
      "... training\n",
      "Optimization complete."
     ]
    },
    {
     "name": "stderr",
     "output_type": "stream",
     "text": [
      "\n",
      "The training process for function test_mlp_parity ran for 0.15m"
     ]
    },
    {
     "name": "stdout",
     "output_type": "stream",
     "text": [
      "\n",
      "Best validation score of 9.583333 % obtained at iteration 1736, with test performance 8.333333 %\n",
      "91.6666666667\n",
      "Learning rate: 1.9, Hidden Units: 248832\n",
      "... building the model\n",
      "... training\n",
      "Optimization complete."
     ]
    },
    {
     "name": "stderr",
     "output_type": "stream",
     "text": [
      "\n",
      "The training process for function test_mlp_parity ran for 1.41m"
     ]
    },
    {
     "name": "stdout",
     "output_type": "stream",
     "text": [
      "\n",
      "Best validation score of 6.250000 % obtained at iteration 1829, with test performance 7.291667 %\n",
      "92.7083333333\n",
      "Learning rate: 1.8, Hidden Units: 12\n",
      "... building the model\n",
      "... training\n",
      "Optimization complete."
     ]
    },
    {
     "name": "stderr",
     "output_type": "stream",
     "text": [
      "\n",
      "The training process for function test_mlp_parity ran for 0.03m"
     ]
    },
    {
     "name": "stdout",
     "output_type": "stream",
     "text": [
      "\n",
      "Best validation score of 47.083333 % obtained at iteration 62, with test performance 50.000000 %\n",
      "50.0\n",
      "Learning rate: 1.8, Hidden Units: 144\n",
      "... building the model\n",
      "... training\n",
      "Optimization complete."
     ]
    },
    {
     "name": "stderr",
     "output_type": "stream",
     "text": [
      "\n",
      "The training process for function test_mlp_parity ran for 0.04m"
     ]
    },
    {
     "name": "stdout",
     "output_type": "stream",
     "text": [
      "\n",
      "Best validation score of 12.500000 % obtained at iteration 2325, with test performance 19.791667 %\n",
      "80.2083333333\n",
      "Learning rate: 1.8, Hidden Units: 1728\n",
      "... building the model\n",
      "... training\n",
      "Optimization complete."
     ]
    },
    {
     "name": "stderr",
     "output_type": "stream",
     "text": [
      "\n",
      "The training process for function test_mlp_parity ran for 0.04m"
     ]
    },
    {
     "name": "stdout",
     "output_type": "stream",
     "text": [
      "\n",
      "Best validation score of 10.625000 % obtained at iteration 2108, with test performance 12.500000 %\n",
      "87.5\n",
      "Learning rate: 1.8, Hidden Units: 20736\n",
      "... building the model\n",
      "... training\n",
      "Optimization complete."
     ]
    },
    {
     "name": "stderr",
     "output_type": "stream",
     "text": [
      "\n",
      "The training process for function test_mlp_parity ran for 0.15m"
     ]
    },
    {
     "name": "stdout",
     "output_type": "stream",
     "text": [
      "\n",
      "Best validation score of 6.041667 % obtained at iteration 2139, with test performance 5.208333 %\n",
      "94.7916666667\n",
      "Learning rate: 1.8, Hidden Units: 248832\n",
      "... building the model\n",
      "... training\n",
      "Optimization complete."
     ]
    },
    {
     "name": "stderr",
     "output_type": "stream",
     "text": [
      "\n",
      "The training process for function test_mlp_parity ran for 1.41m"
     ]
    },
    {
     "name": "stdout",
     "output_type": "stream",
     "text": [
      "\n",
      "Best validation score of 9.791667 % obtained at iteration 1922, with test performance 10.416667 %\n",
      "89.5833333333\n",
      "Learning rate: 1.7, Hidden Units: 12\n",
      "... building the model\n",
      "... training\n",
      "Optimization complete."
     ]
    },
    {
     "name": "stderr",
     "output_type": "stream",
     "text": [
      "\n",
      "The training process for function test_mlp_parity ran for 0.04m"
     ]
    },
    {
     "name": "stdout",
     "output_type": "stream",
     "text": [
      "\n",
      "Best validation score of 45.416667 % obtained at iteration 3100, with test performance 59.375000 %\n",
      "40.625\n",
      "Learning rate: 1.7, Hidden Units: 144\n",
      "... building the model\n",
      "... training\n",
      "Optimization complete."
     ]
    },
    {
     "name": "stderr",
     "output_type": "stream",
     "text": [
      "\n",
      "The training process for function test_mlp_parity ran for 0.04m"
     ]
    },
    {
     "name": "stdout",
     "output_type": "stream",
     "text": [
      "\n",
      "Best validation score of 11.250000 % obtained at iteration 2604, with test performance 12.500000 %\n",
      "87.5\n",
      "Learning rate: 1.7, Hidden Units: 1728\n",
      "... building the model\n",
      "... training\n",
      "Optimization complete."
     ]
    },
    {
     "name": "stderr",
     "output_type": "stream",
     "text": [
      "\n",
      "The training process for function test_mlp_parity ran for 0.04m"
     ]
    },
    {
     "name": "stdout",
     "output_type": "stream",
     "text": [
      "\n",
      "Best validation score of 8.125000 % obtained at iteration 2294, with test performance 15.625000 %\n",
      "84.375\n",
      "Learning rate: 1.7, Hidden Units: 20736\n",
      "... building the model\n",
      "... training\n",
      "Optimization complete."
     ]
    },
    {
     "name": "stderr",
     "output_type": "stream",
     "text": [
      "\n",
      "The training process for function test_mlp_parity ran for 0.15m"
     ]
    },
    {
     "name": "stdout",
     "output_type": "stream",
     "text": [
      "\n",
      "Best validation score of 5.416667 % obtained at iteration 2201, with test performance 8.333333 %\n",
      "91.6666666667\n",
      "Learning rate: 1.7, Hidden Units: 248832\n",
      "... building the model\n",
      "... training\n",
      "Optimization complete."
     ]
    },
    {
     "name": "stderr",
     "output_type": "stream",
     "text": [
      "\n",
      "The training process for function test_mlp_parity ran for 1.41m"
     ]
    },
    {
     "name": "stdout",
     "output_type": "stream",
     "text": [
      "\n",
      "Best validation score of 5.416667 % obtained at iteration 1798, with test performance 9.375000 %\n",
      "90.625\n",
      "Learning rate: 1.6, Hidden Units: 12\n",
      "... building the model\n",
      "... training\n",
      "Optimization complete."
     ]
    },
    {
     "name": "stderr",
     "output_type": "stream",
     "text": [
      "\n",
      "The training process for function test_mlp_parity ran for 0.04m"
     ]
    },
    {
     "name": "stdout",
     "output_type": "stream",
     "text": [
      "\n",
      "Best validation score of 42.083333 % obtained at iteration 3100, with test performance 52.083333 %\n",
      "47.9166666667\n",
      "Learning rate: 1.6, Hidden Units: 144\n",
      "... building the model\n",
      "... training\n",
      "Optimization complete."
     ]
    },
    {
     "name": "stderr",
     "output_type": "stream",
     "text": [
      "\n",
      "The training process for function test_mlp_parity ran for 0.04m"
     ]
    },
    {
     "name": "stdout",
     "output_type": "stream",
     "text": [
      "\n",
      "Best validation score of 19.375000 % obtained at iteration 3069, with test performance 11.458333 %\n",
      "88.5416666667\n",
      "Learning rate: 1.6, Hidden Units: 1728\n",
      "... building the model\n",
      "... training\n",
      "Optimization complete."
     ]
    },
    {
     "name": "stderr",
     "output_type": "stream",
     "text": [
      "\n",
      "The training process for function test_mlp_parity ran for 0.04m"
     ]
    },
    {
     "name": "stdout",
     "output_type": "stream",
     "text": [
      "\n",
      "Best validation score of 10.833333 % obtained at iteration 2542, with test performance 11.458333 %\n",
      "88.5416666667\n",
      "Learning rate: 1.6, Hidden Units: 20736\n",
      "... building the model\n",
      "... training\n",
      "Optimization complete."
     ]
    },
    {
     "name": "stderr",
     "output_type": "stream",
     "text": [
      "\n",
      "The training process for function test_mlp_parity ran for 0.15m"
     ]
    },
    {
     "name": "stdout",
     "output_type": "stream",
     "text": [
      "\n",
      "Best validation score of 6.875000 % obtained at iteration 2108, with test performance 7.291667 %\n",
      "92.7083333333\n",
      "Learning rate: 1.6, Hidden Units: 248832\n",
      "... building the model\n",
      "... training\n",
      "Optimization complete."
     ]
    },
    {
     "name": "stderr",
     "output_type": "stream",
     "text": [
      "\n",
      "The training process for function test_mlp_parity ran for 1.41m"
     ]
    },
    {
     "name": "stdout",
     "output_type": "stream",
     "text": [
      "\n",
      "Best validation score of 5.000000 % obtained at iteration 2325, with test performance 6.250000 %\n",
      "93.75\n",
      "Learning rate: 1.5, Hidden Units: 12\n",
      "... building the model\n",
      "... training\n",
      "Optimization complete."
     ]
    },
    {
     "name": "stderr",
     "output_type": "stream",
     "text": [
      "\n",
      "The training process for function test_mlp_parity ran for 0.04m"
     ]
    },
    {
     "name": "stdout",
     "output_type": "stream",
     "text": [
      "\n",
      "Best validation score of 47.500000 % obtained at iteration 279, with test performance 58.333333 %\n",
      "41.6666666667\n",
      "Learning rate: 1.5, Hidden Units: 144\n",
      "... building the model\n",
      "... training\n",
      "Optimization complete."
     ]
    },
    {
     "name": "stderr",
     "output_type": "stream",
     "text": [
      "\n",
      "The training process for function test_mlp_parity ran for 0.04m"
     ]
    },
    {
     "name": "stdout",
     "output_type": "stream",
     "text": [
      "\n",
      "Best validation score of 17.708333 % obtained at iteration 2945, with test performance 19.791667 %\n",
      "80.2083333333\n",
      "Learning rate: 1.5, Hidden Units: 1728\n",
      "... building the model\n",
      "... training\n",
      "Optimization complete."
     ]
    },
    {
     "name": "stderr",
     "output_type": "stream",
     "text": [
      "\n",
      "The training process for function test_mlp_parity ran for 0.04m"
     ]
    },
    {
     "name": "stdout",
     "output_type": "stream",
     "text": [
      "\n",
      "Best validation score of 11.041667 % obtained at iteration 2666, with test performance 16.666667 %\n",
      "83.3333333333\n",
      "Learning rate: 1.5, Hidden Units: 20736\n",
      "... building the model\n",
      "... training\n",
      "Optimization complete."
     ]
    },
    {
     "name": "stderr",
     "output_type": "stream",
     "text": [
      "\n",
      "The training process for function test_mlp_parity ran for 0.15m"
     ]
    },
    {
     "name": "stdout",
     "output_type": "stream",
     "text": [
      "\n",
      "Best validation score of 5.208333 % obtained at iteration 2232, with test performance 5.208333 %\n",
      "94.7916666667\n",
      "Learning rate: 1.5, Hidden Units: 248832\n",
      "... building the model\n",
      "... training\n",
      "Optimization complete."
     ]
    },
    {
     "name": "stderr",
     "output_type": "stream",
     "text": [
      "\n",
      "The training process for function test_mlp_parity ran for 1.41m"
     ]
    },
    {
     "name": "stdout",
     "output_type": "stream",
     "text": [
      "\n",
      "Best validation score of 4.375000 % obtained at iteration 2418, with test performance 7.291667 %\n",
      "92.7083333333\n"
     ]
    },
    {
     "name": "stderr",
     "output_type": "stream",
     "text": [
      "\n"
     ]
    }
   ],
   "source": [
    "from hw4b import test_mlp_parity\n",
    "from numpy import arange\n",
    "import gc\n",
    "gc.collect()\n",
    "optimum_config_found = False\n",
    "for i in arange(2.3, 1.4, -0.1):\n",
    "    lr = float(i)\n",
    "    n_hidden = 12\n",
    "    while n_hidden <= 248832:\n",
    "        print \"Learning rate: %s, Hidden Units: %s\"%(lr,n_hidden)\n",
    "        test_acc = test_mlp_parity(learning_rate=lr, L1_reg=0.00, L2_reg=0.00, n_epochs=100,\n",
    "             batch_size=32, n_hidden=n_hidden, n_hiddenLayers=1,\n",
    "             verbose=False,input_bit=12)\n",
    "        n_hidden = n_hidden*12\n",
    "        print test_acc\n",
    "        gc.collect()\n",
    "        if test_acc == 100.:\n",
    "            print \"Optimum configuration: Learning rate: %s, Hidden Units: %s\"%(lr,n_hidden)\n",
    "            optimum_config_found = True\n",
    "            break\n",
    "    if optimum_config_found:\n",
    "        break"
   ]
  },
  {
   "cell_type": "markdown",
   "metadata": {},
   "source": [
    "### b.i Shallow MLP\n",
    "\n",
    "I was able to achieve 100% accuracy for 8-bit inputs. The configuration used was Learning rate: 0.8, Hidden Units: 16\n",
    "\n",
    "I wasn't able to achieve 100% accuracy for 12-bit inputs. The best accurcy achieved was 96.875% for the Learning rate: 2.2, Hidden Units: 20736"
   ]
  },
  {
   "cell_type": "markdown",
   "metadata": {},
   "source": [
    "#### Bullet 2: Deep MLP"
   ]
  },
  {
   "cell_type": "code",
   "execution_count": 2,
   "metadata": {
    "collapsed": false,
    "scrolled": true
   },
   "outputs": [
    {
     "name": "stdout",
     "output_type": "stream",
     "text": [
      "Learning rate: 1.0, Hidden Units: 8\n",
      "... building the model\n",
      "... training\n",
      "Optimization complete.\n",
      "Best validation score of 2.708333 % obtained at iteration 3069, with test performance 3.125000 %\n",
      "96.875\n",
      "Learning rate: 1.0, Hidden Units: 16\n",
      "... building the model\n",
      "... training\n",
      "Optimization complete."
     ]
    },
    {
     "name": "stderr",
     "output_type": "stream",
     "text": [
      "The training process for function test_mlp_parity ran for 0.04m\n",
      "The training process for function test_mlp_parity ran for 0.04m"
     ]
    },
    {
     "name": "stdout",
     "output_type": "stream",
     "text": [
      "\n",
      "Best validation score of 32.500000 % obtained at iteration 2542, with test performance 36.458333 %\n",
      "63.5416666667\n",
      "Learning rate: 1.0, Hidden Units: 32\n",
      "... building the model\n",
      "... training\n",
      "Optimization complete."
     ]
    },
    {
     "name": "stderr",
     "output_type": "stream",
     "text": [
      "\n",
      "The training process for function test_mlp_parity ran for 0.04m"
     ]
    },
    {
     "name": "stdout",
     "output_type": "stream",
     "text": [
      "\n",
      "Best validation score of 0.833333 % obtained at iteration 2263, with test performance 0.000000 %\n",
      "100.0\n",
      "Optimum configuration: Learning rate: 1.0, Hidden Units: 64\n",
      "Learning rate: 3.0, Hidden Units: 12\n",
      "... building the model\n",
      "... training\n",
      "Optimization complete."
     ]
    },
    {
     "name": "stderr",
     "output_type": "stream",
     "text": [
      "\n",
      "The training process for function test_mlp_parity ran for 0.02m"
     ]
    },
    {
     "name": "stdout",
     "output_type": "stream",
     "text": [
      "\n",
      "Best validation score of 49.330357 % obtained at iteration 105, with test performance 50.000000 %\n",
      "50.0\n",
      "Learning rate: 3.0, Hidden Units: 144\n",
      "... building the model\n",
      "... training\n",
      "Optimization complete."
     ]
    },
    {
     "name": "stderr",
     "output_type": "stream",
     "text": [
      "\n",
      "The training process for function test_mlp_parity ran for 0.02m"
     ]
    },
    {
     "name": "stdout",
     "output_type": "stream",
     "text": [
      "\n",
      "Best validation score of 47.767857 % obtained at iteration 15, with test performance 46.875000 %\n",
      "53.125\n",
      "Learning rate: 2.9, Hidden Units: 12\n",
      "... building the model\n",
      "... training\n",
      "Optimization complete."
     ]
    },
    {
     "name": "stderr",
     "output_type": "stream",
     "text": [
      "\n",
      "The training process for function test_mlp_parity ran for 0.02m"
     ]
    },
    {
     "name": "stdout",
     "output_type": "stream",
     "text": [
      "\n",
      "Best validation score of 45.982143 % obtained at iteration 45, with test performance 45.312500 %\n",
      "54.6875\n",
      "Learning rate: 2.9, Hidden Units: 144\n",
      "... building the model\n",
      "... training\n",
      "Optimization complete."
     ]
    },
    {
     "name": "stderr",
     "output_type": "stream",
     "text": [
      "\n",
      "The training process for function test_mlp_parity ran for 0.02m"
     ]
    },
    {
     "name": "stdout",
     "output_type": "stream",
     "text": [
      "\n",
      "Best validation score of 49.330357 % obtained at iteration 30, with test performance 48.437500 %\n",
      "51.5625\n",
      "Learning rate: 2.8, Hidden Units: 12\n",
      "... building the model\n",
      "... training\n",
      "Optimization complete."
     ]
    },
    {
     "name": "stderr",
     "output_type": "stream",
     "text": [
      "\n",
      "The training process for function test_mlp_parity ran for 0.02m"
     ]
    },
    {
     "name": "stdout",
     "output_type": "stream",
     "text": [
      "\n",
      "Best validation score of 46.428571 % obtained at iteration 945, with test performance 37.500000 %\n",
      "62.5\n",
      "Learning rate: 2.8, Hidden Units: 144\n",
      "... building the model\n",
      "... training\n",
      "Optimization complete."
     ]
    },
    {
     "name": "stderr",
     "output_type": "stream",
     "text": [
      "\n",
      "The training process for function test_mlp_parity ran for 0.02m"
     ]
    },
    {
     "name": "stdout",
     "output_type": "stream",
     "text": [
      "\n",
      "Best validation score of 49.553571 % obtained at iteration 15, with test performance 54.687500 %\n",
      "45.3125\n",
      "Learning rate: 2.7, Hidden Units: 12\n",
      "... building the model\n",
      "... training\n",
      "Optimization complete."
     ]
    },
    {
     "name": "stderr",
     "output_type": "stream",
     "text": [
      "\n",
      "The training process for function test_mlp_parity ran for 0.02m"
     ]
    },
    {
     "name": "stdout",
     "output_type": "stream",
     "text": [
      "\n",
      "Best validation score of 49.776786 % obtained at iteration 15, with test performance 43.750000 %\n",
      "56.25\n",
      "Learning rate: 2.7, Hidden Units: 144\n",
      "... building the model\n",
      "... training\n",
      "Optimization complete."
     ]
    },
    {
     "name": "stderr",
     "output_type": "stream",
     "text": [
      "\n",
      "The training process for function test_mlp_parity ran for 0.02m"
     ]
    },
    {
     "name": "stdout",
     "output_type": "stream",
     "text": [
      "\n",
      "Best validation score of 47.991071 % obtained at iteration 30, with test performance 46.875000 %\n",
      "53.125\n",
      "Learning rate: 2.6, Hidden Units: 12\n",
      "... building the model\n",
      "... training\n",
      "Optimization complete."
     ]
    },
    {
     "name": "stderr",
     "output_type": "stream",
     "text": [
      "\n",
      "The training process for function test_mlp_parity ran for 0.02m"
     ]
    },
    {
     "name": "stdout",
     "output_type": "stream",
     "text": [
      "\n",
      "Best validation score of 44.642857 % obtained at iteration 15, with test performance 42.187500 %\n",
      "57.8125\n",
      "Learning rate: 2.6, Hidden Units: 144\n",
      "... building the model\n",
      "... training\n",
      "Optimization complete."
     ]
    },
    {
     "name": "stderr",
     "output_type": "stream",
     "text": [
      "\n",
      "The training process for function test_mlp_parity ran for 0.02m"
     ]
    },
    {
     "name": "stdout",
     "output_type": "stream",
     "text": [
      "\n",
      "Best validation score of 49.776786 % obtained at iteration 15, with test performance 48.437500 %\n",
      "51.5625\n",
      "Learning rate: 2.5, Hidden Units: 12\n",
      "... building the model\n",
      "... training\n",
      "Optimization complete."
     ]
    },
    {
     "name": "stderr",
     "output_type": "stream",
     "text": [
      "\n",
      "The training process for function test_mlp_parity ran for 0.02m"
     ]
    },
    {
     "name": "stdout",
     "output_type": "stream",
     "text": [
      "\n",
      "Best validation score of 49.330357 % obtained at iteration 30, with test performance 65.625000 %\n",
      "34.375\n",
      "Learning rate: 2.5, Hidden Units: 144\n",
      "... building the model\n",
      "... training\n",
      "Optimization complete."
     ]
    },
    {
     "name": "stderr",
     "output_type": "stream",
     "text": [
      "\n",
      "The training process for function test_mlp_parity ran for 0.02m"
     ]
    },
    {
     "name": "stdout",
     "output_type": "stream",
     "text": [
      "\n",
      "Best validation score of 48.883929 % obtained at iteration 15, with test performance 43.750000 %\n",
      "56.25\n",
      "Learning rate: 2.4, Hidden Units: 12\n",
      "... building the model\n",
      "... training\n",
      "Optimization complete."
     ]
    },
    {
     "name": "stderr",
     "output_type": "stream",
     "text": [
      "\n",
      "The training process for function test_mlp_parity ran for 0.02m"
     ]
    },
    {
     "name": "stdout",
     "output_type": "stream",
     "text": [
      "\n",
      "Best validation score of 46.651786 % obtained at iteration 1365, with test performance 48.437500 %\n",
      "51.5625\n",
      "Learning rate: 2.4, Hidden Units: 144\n",
      "... building the model\n",
      "... training\n",
      "Optimization complete."
     ]
    },
    {
     "name": "stderr",
     "output_type": "stream",
     "text": [
      "\n",
      "The training process for function test_mlp_parity ran for 0.02m"
     ]
    },
    {
     "name": "stdout",
     "output_type": "stream",
     "text": [
      "\n",
      "Best validation score of 46.428571 % obtained at iteration 15, with test performance 43.750000 %\n",
      "56.25\n",
      "Learning rate: 2.3, Hidden Units: 12\n",
      "... building the model\n",
      "... training\n",
      "Optimization complete."
     ]
    },
    {
     "name": "stderr",
     "output_type": "stream",
     "text": [
      "\n",
      "The training process for function test_mlp_parity ran for 0.02m"
     ]
    },
    {
     "name": "stdout",
     "output_type": "stream",
     "text": [
      "\n",
      "Best validation score of 48.214286 % obtained at iteration 15, with test performance 46.875000 %\n",
      "53.125\n",
      "Learning rate: 2.3, Hidden Units: 144\n",
      "... building the model\n",
      "... training\n",
      "Optimization complete."
     ]
    },
    {
     "name": "stderr",
     "output_type": "stream",
     "text": [
      "\n",
      "The training process for function test_mlp_parity ran for 0.02m"
     ]
    },
    {
     "name": "stdout",
     "output_type": "stream",
     "text": [
      "\n",
      "Best validation score of 49.553571 % obtained at iteration 15, with test performance 32.812500 %\n",
      "67.1875\n",
      "Learning rate: 2.2, Hidden Units: 12\n",
      "... building the model\n",
      "... training\n",
      "Optimization complete."
     ]
    },
    {
     "name": "stderr",
     "output_type": "stream",
     "text": [
      "\n",
      "The training process for function test_mlp_parity ran for 0.02m"
     ]
    },
    {
     "name": "stdout",
     "output_type": "stream",
     "text": [
      "\n",
      "Best validation score of 45.089286 % obtained at iteration 45, with test performance 59.375000 %\n",
      "40.625\n",
      "Learning rate: 2.2, Hidden Units: 144\n",
      "... building the model\n",
      "... training\n",
      "Optimization complete."
     ]
    },
    {
     "name": "stderr",
     "output_type": "stream",
     "text": [
      "\n",
      "The training process for function test_mlp_parity ran for 0.02m"
     ]
    },
    {
     "name": "stdout",
     "output_type": "stream",
     "text": [
      "\n",
      "Best validation score of 49.553571 % obtained at iteration 15, with test performance 50.000000 %\n",
      "50.0\n",
      "Learning rate: 2.1, Hidden Units: 12\n",
      "... building the model\n",
      "... training\n",
      "Optimization complete."
     ]
    },
    {
     "name": "stderr",
     "output_type": "stream",
     "text": [
      "\n",
      "The training process for function test_mlp_parity ran for 0.02m"
     ]
    },
    {
     "name": "stdout",
     "output_type": "stream",
     "text": [
      "\n",
      "Best validation score of 38.392857 % obtained at iteration 885, with test performance 46.875000 %\n",
      "53.125\n",
      "Learning rate: 2.1, Hidden Units: 144\n",
      "... building the model\n",
      "... training\n",
      "Optimization complete."
     ]
    },
    {
     "name": "stderr",
     "output_type": "stream",
     "text": [
      "\n",
      "The training process for function test_mlp_parity ran for 0.02m"
     ]
    },
    {
     "name": "stdout",
     "output_type": "stream",
     "text": [
      "\n",
      "Best validation score of 49.553571 % obtained at iteration 15, with test performance 40.625000 %\n",
      "59.375\n",
      "Learning rate: 2.0, Hidden Units: 12\n",
      "... building the model\n",
      "... training\n",
      "Optimization complete."
     ]
    },
    {
     "name": "stderr",
     "output_type": "stream",
     "text": [
      "\n",
      "The training process for function test_mlp_parity ran for 0.02m"
     ]
    },
    {
     "name": "stdout",
     "output_type": "stream",
     "text": [
      "\n",
      "Best validation score of 32.142857 % obtained at iteration 1080, with test performance 31.250000 %\n",
      "68.75\n",
      "Learning rate: 2.0, Hidden Units: 144\n",
      "... building the model\n",
      "... training\n",
      "Optimization complete."
     ]
    },
    {
     "name": "stderr",
     "output_type": "stream",
     "text": [
      "\n",
      "The training process for function test_mlp_parity ran for 0.02m"
     ]
    },
    {
     "name": "stdout",
     "output_type": "stream",
     "text": [
      "\n",
      "Best validation score of 47.767857 % obtained at iteration 30, with test performance 62.500000 %\n",
      "37.5\n",
      "Learning rate: 1.9, Hidden Units: 12\n",
      "... building the model\n",
      "... training\n",
      "Optimization complete."
     ]
    },
    {
     "name": "stderr",
     "output_type": "stream",
     "text": [
      "\n",
      "The training process for function test_mlp_parity ran for 0.02m"
     ]
    },
    {
     "name": "stdout",
     "output_type": "stream",
     "text": [
      "\n",
      "Best validation score of 45.535714 % obtained at iteration 660, with test performance 57.812500 %\n",
      "42.1875\n",
      "Learning rate: 1.9, Hidden Units: 144\n",
      "... building the model\n",
      "... training\n",
      "Optimization complete."
     ]
    },
    {
     "name": "stderr",
     "output_type": "stream",
     "text": [
      "\n",
      "The training process for function test_mlp_parity ran for 0.02m"
     ]
    },
    {
     "name": "stdout",
     "output_type": "stream",
     "text": [
      "\n",
      "Best validation score of 45.535714 % obtained at iteration 855, with test performance 43.750000 %\n",
      "56.25\n",
      "Learning rate: 1.8, Hidden Units: 12\n",
      "... building the model\n",
      "... training\n",
      "Optimization complete."
     ]
    },
    {
     "name": "stderr",
     "output_type": "stream",
     "text": [
      "\n",
      "The training process for function test_mlp_parity ran for 0.02m"
     ]
    },
    {
     "name": "stdout",
     "output_type": "stream",
     "text": [
      "\n",
      "Best validation score of 35.044643 % obtained at iteration 1485, with test performance 31.250000 %\n",
      "68.75\n",
      "Learning rate: 1.8, Hidden Units: 144\n",
      "... building the model\n",
      "... training\n",
      "Optimization complete."
     ]
    },
    {
     "name": "stderr",
     "output_type": "stream",
     "text": [
      "\n",
      "The training process for function test_mlp_parity ran for 0.02m"
     ]
    },
    {
     "name": "stdout",
     "output_type": "stream",
     "text": [
      "\n",
      "Best validation score of 47.544643 % obtained at iteration 75, with test performance 64.062500 %\n",
      "35.9375\n",
      "Learning rate: 1.7, Hidden Units: 12\n",
      "... building the model\n",
      "... training\n",
      "Optimization complete."
     ]
    },
    {
     "name": "stderr",
     "output_type": "stream",
     "text": [
      "\n",
      "The training process for function test_mlp_parity ran for 0.03m"
     ]
    },
    {
     "name": "stdout",
     "output_type": "stream",
     "text": [
      "\n",
      "Best validation score of 37.723214 % obtained at iteration 1380, with test performance 43.750000 %\n",
      "56.25\n",
      "Learning rate: 1.7, Hidden Units: 144\n",
      "... building the model\n",
      "... training\n",
      "Optimization complete."
     ]
    },
    {
     "name": "stderr",
     "output_type": "stream",
     "text": [
      "\n",
      "The training process for function test_mlp_parity ran for 0.03m"
     ]
    },
    {
     "name": "stdout",
     "output_type": "stream",
     "text": [
      "\n",
      "Best validation score of 48.883929 % obtained at iteration 15, with test performance 51.562500 %\n",
      "48.4375\n",
      "Learning rate: 1.6, Hidden Units: 12\n",
      "... building the model\n",
      "... training\n",
      "Optimization complete."
     ]
    },
    {
     "name": "stderr",
     "output_type": "stream",
     "text": [
      "\n",
      "The training process for function test_mlp_parity ran for 0.03m"
     ]
    },
    {
     "name": "stdout",
     "output_type": "stream",
     "text": [
      "\n",
      "Best validation score of 47.991071 % obtained at iteration 15, with test performance 40.625000 %\n",
      "59.375\n",
      "Learning rate: 1.6, Hidden Units: 144\n",
      "... building the model\n",
      "... training\n",
      "Optimization complete."
     ]
    },
    {
     "name": "stderr",
     "output_type": "stream",
     "text": [
      "\n",
      "The training process for function test_mlp_parity ran for 0.03m"
     ]
    },
    {
     "name": "stdout",
     "output_type": "stream",
     "text": [
      "\n",
      "Best validation score of 50.000000 % obtained at iteration 15, with test performance 54.687500 %\n",
      "45.3125\n"
     ]
    },
    {
     "name": "stderr",
     "output_type": "stream",
     "text": [
      "\n"
     ]
    }
   ],
   "source": [
    "# TODO\n",
    "\n",
    "from hw4b import test_mlp_parity\n",
    "import gc\n",
    "gc.collect()\n",
    "optimum_config_found = False\n",
    "for lr in [1.0,0.9,0.8,0.7,0.6,0.5]:\n",
    "    n_hidden = 8\n",
    "    while n_hidden <= 128:\n",
    "        print \"Learning rate: %s, Hidden Units: %s\"%(lr,n_hidden)\n",
    "        test_acc = test_mlp_parity(learning_rate=lr, L1_reg=0.00, L2_reg=0.0000, n_epochs=100,\n",
    "             batch_size=32, n_hidden=n_hidden, n_hiddenLayers=2,\n",
    "             verbose=False,input_bit=8)\n",
    "        n_hidden = n_hidden*2\n",
    "        print test_acc\n",
    "        gc.collect()\n",
    "        if test_acc == 100.:\n",
    "            print \"Optimum configuration: Learning rate: %s, Hidden Units: %s\"%(lr,n_hidden)\n",
    "            optimum_config_found = True\n",
    "            break\n",
    "    if optimum_config_found:\n",
    "        break\n",
    "gc.collect()\n",
    "optimum_config_found = False\n",
    "for i in arange(3, 1.5, -0.1):\n",
    "    lr = float(i)\n",
    "    n_hidden = 12\n",
    "    while n_hidden <= 144:\n",
    "        print \"Learning rate: %s, Hidden Units: %s\"%(lr,n_hidden)\n",
    "        test_acc = test_mlp_parity(learning_rate=lr, L1_reg=0.00, L2_reg=0.0000, n_epochs=100,\n",
    "             batch_size=32, n_hidden=n_hidden, n_hiddenLayers=2,\n",
    "             verbose=False,input_bit=12)\n",
    "        n_hidden = n_hidden*12\n",
    "        print test_acc\n",
    "        gc.collect()\n",
    "        if test_acc == 100.:\n",
    "            print \"Optimum configuration: Learning rate: %s, Hidden Units: %s\"%(lr,n_hidden)\n",
    "            optimum_config_found = True\n",
    "            break\n",
    "    if optimum_config_found:\n",
    "        break"
   ]
  },
  {
   "cell_type": "markdown",
   "metadata": {},
   "source": [
    "### b.ii Deep MLP\n",
    "\n",
    "I was able to achieve 100% accuracy for 8-bit inputs. The configuration used was Learning rate: 1.0, Hidden Units: 64 and 2 hidden layers\n",
    "\n",
    "I wasn't able to achieve 100% accuracy for 12-bit input. The best accuracy achieved was 67.1875 for Learning rate: 2.3, Hidden Units: 144\n"
   ]
  },
  {
   "cell_type": "markdown",
   "metadata": {},
   "source": [
    "#### Bullet 3: RNN"
   ]
  },
  {
   "cell_type": "code",
   "execution_count": 4,
   "metadata": {
    "collapsed": false,
    "scrolled": true
   },
   "outputs": [
    {
     "name": "stdout",
     "output_type": "stream",
     "text": [
      "... building the model\n",
      "... training\n",
      "Optimization complete.\n",
      "Best validation score of 44.791667 % obtained at iteration 31, with test performance 53.125000 %\n",
      "46.875\n",
      "... building the model\n",
      "... training\n",
      "Optimization complete."
     ]
    },
    {
     "name": "stderr",
     "output_type": "stream",
     "text": [
      "The training process for function test_rnn_parity ran for 1.30m\n",
      "The training process for function test_rnn_parity ran for 1.31m"
     ]
    },
    {
     "name": "stdout",
     "output_type": "stream",
     "text": [
      "\n",
      "Best validation score of 49.166667 % obtained at iteration 124, with test performance 42.708333 %\n",
      "57.2916666667\n"
     ]
    },
    {
     "name": "stderr",
     "output_type": "stream",
     "text": [
      "\n"
     ]
    }
   ],
   "source": [
    "# TODO\n",
    "\n",
    "from hw4b import test_rnn_parity\n",
    "import gc\n",
    "gc.collect()\n",
    "\n",
    "test_acc = test_rnn_parity(learning_rate=1, L1_reg=0.00, L2_reg=0.0000, n_epochs=100,\n",
    "             batch_size=32, n_hidden=64,verbose=False,input_bit=8)\n",
    "print test_acc\n",
    "gc.collect()\n",
    "\n",
    "test_acc = test_rnn_parity(learning_rate=2.3, L1_reg=0.00, L2_reg=0.0000, n_epochs=100,\n",
    "             batch_size=32, n_hidden=144,verbose=False,input_bit=12)\n",
    "print test_acc"
   ]
  },
  {
   "cell_type": "markdown",
   "metadata": {},
   "source": [
    "### b.iii RNN\n",
    "\n",
    "A RNN requires less number of neurons to achieve similar accuracy, however, this wasn't observed in the above experiment. One of the potential reasons for this could be that I used one layer in RNN. If we increase the number of neurons and hidden layers in RNN, we might be able to see increase in the testing accuracy."
   ]
  }
 ],
 "metadata": {
  "kernelspec": {
   "display_name": "Python 2",
   "language": "python",
   "name": "python2"
  },
  "language_info": {
   "codemirror_mode": {
    "name": "ipython",
    "version": 2
   },
   "file_extension": ".py",
   "mimetype": "text/x-python",
   "name": "python",
   "nbconvert_exporter": "python",
   "pygments_lexer": "ipython2",
   "version": "2.7.11"
  }
 },
 "nbformat": 4,
 "nbformat_minor": 0
}
